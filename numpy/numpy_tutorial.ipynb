{
  "cells": [
    {
      "cell_type": "markdown",
      "metadata": {},
      "source": [
        "# Numpy Tutorial\n",
        "[NumPy](https://numpy.org/) is a Python library, which adds support for large, multi-dimensional arrays and matrices, along with a large collection of optimized, high-level mathematical functions to operate on these arrays."
      ]
    },
    {
      "cell_type": "code",
      "execution_count": 3,
      "metadata": {
        "id": "ma9gJaHdumDW"
      },
      "outputs": [
        {
          "ename": "ModuleNotFoundError",
          "evalue": "No module named 'numpy'",
          "output_type": "error",
          "traceback": [
            "\u001b[0;31m---------------------------------------------------------------------------\u001b[0m",
            "\u001b[0;31mModuleNotFoundError\u001b[0m                       Traceback (most recent call last)",
            "Cell \u001b[0;32mIn[3], line 1\u001b[0m\n\u001b[0;32m----> 1\u001b[0m \u001b[38;5;28;01mimport\u001b[39;00m \u001b[38;5;21;01mnumpy\u001b[39;00m \u001b[38;5;28;01mas\u001b[39;00m \u001b[38;5;21;01mnp\u001b[39;00m\n\u001b[1;32m      2\u001b[0m \u001b[38;5;28;01mimport\u001b[39;00m \u001b[38;5;21;01mpprint\u001b[39;00m\n",
            "\u001b[0;31mModuleNotFoundError\u001b[0m: No module named 'numpy'"
          ]
        }
      ],
      "source": [
        "import numpy as np\n",
        "import pprint"
      ]
    },
    {
      "cell_type": "markdown",
      "metadata": {},
      "source": [
        "## Efficient NumPy Code"
      ]
    },
    {
      "cell_type": "markdown",
      "metadata": {},
      "source": [
        "When working with numpy arrays, avoid explicit for-loops over indices/axes at all costs. For-loops will dramatically slow down your code (~10-100x)."
      ]
    },
    {
      "cell_type": "code",
      "execution_count": null,
      "metadata": {},
      "outputs": [],
      "source": [
        "%%timeit\n",
        "x = np.random.rand(1000, 1000)\n",
        "for i in range(100, 1000):\n",
        "    for j in range(x.shape[1]): \n",
        "        x[i, j] += 5"
      ]
    },
    {
      "cell_type": "code",
      "execution_count": null,
      "metadata": {},
      "outputs": [],
      "source": [
        "%%timeit\n",
        "x = np.random.rand(1000, 1000)\n",
        "x[np.arange(100,1000), :] += 5 "
      ]
    },
    {
      "cell_type": "markdown",
      "metadata": {
        "id": "5vWvQD3wwMTK"
      },
      "source": [
        "## NumPy Arrays\n"
      ]
    },
    {
      "cell_type": "code",
      "execution_count": null,
      "metadata": {
        "id": "5VGpPTvYwRP4"
      },
      "outputs": [],
      "source": [
        "# Create numpy arrays from lists\n",
        "a = [1, 2, 3, 4, 5]  # normal python list\n",
        "numpy_a = np.array([1, 2, 3, 4, 5], dtype='int16') # numpy 1d array"
      ]
    },
    {
      "cell_type": "code",
      "execution_count": null,
      "metadata": {
        "colab": {
          "base_uri": "https://localhost:8080/"
        },
        "id": "aC2RX9ldCOui",
        "outputId": "34f504f2-80ff-49af-b657-436cd9f36a35"
      },
      "outputs": [
        {
          "data": {
            "text/plain": [
              "array([1, 2, 3, 4, 5], dtype=int16)"
            ]
          },
          "execution_count": 3,
          "metadata": {},
          "output_type": "execute_result"
        }
      ],
      "source": [
        "# Let's take a look at their shapes.\n",
        "# When working with numpy arrays, .shape will be a very useful debugging tool \n",
        "print(numpy_a)\n",
        "print(numpy_a.shape)"
      ]
    },
    {
      "cell_type": "code",
      "execution_count": null,
      "metadata": {
        "id": "5mlEUTR0gRQ2"
      },
      "outputs": [],
      "source": [
        "# numpy 2d array\n",
        "b = np.array([\n",
        "    [9.0,8.0,7.0],\n",
        "    [6.0,5.0,4.0]\n",
        "])"
      ]
    },
    {
      "cell_type": "code",
      "execution_count": null,
      "metadata": {
        "colab": {
          "base_uri": "https://localhost:8080/"
        },
        "id": "hqsxuHUUDwN9",
        "outputId": "459af3ed-2c22-44b0-a8a8-9dbb8d277461"
      },
      "outputs": [
        {
          "data": {
            "text/plain": [
              "array([[9., 8., 7.],\n",
              "       [6., 5., 4.]])"
            ]
          },
          "execution_count": 6,
          "metadata": {},
          "output_type": "execute_result"
        }
      ],
      "source": [
        "# Get Dimensions\n",
        "print(b.ndim)\n",
        "\n",
        "# Get Type\n",
        "print(b.dtype)\n",
        "\n",
        "# Get Size\n",
        "print(b.nbytes)"
      ]
    },
    {
      "cell_type": "markdown",
      "metadata": {
        "id": "1K0eLRfZgqwU"
      },
      "source": [
        "# More types of NumPy initializations"
      ]
    },
    {
      "cell_type": "code",
      "execution_count": null,
      "metadata": {
        "colab": {
          "base_uri": "https://localhost:8080/"
        },
        "id": "Y3pAqy1eguxf",
        "outputId": "5527754f-b070-497b-e2dc-e557c178a189"
      },
      "outputs": [
        {
          "data": {
            "text/plain": [
              "array([[[0., 0., 0.],\n",
              "        [0., 0., 0.],\n",
              "        [0., 0., 0.],\n",
              "        [0., 0., 0.],\n",
              "        [0., 0., 0.],\n",
              "        [0., 0., 0.]],\n",
              "\n",
              "       [[0., 0., 0.],\n",
              "        [0., 0., 0.],\n",
              "        [0., 0., 0.],\n",
              "        [0., 0., 0.],\n",
              "        [0., 0., 0.],\n",
              "        [0., 0., 0.]],\n",
              "\n",
              "       [[0., 0., 0.],\n",
              "        [0., 0., 0.],\n",
              "        [0., 0., 0.],\n",
              "        [0., 0., 0.],\n",
              "        [0., 0., 0.],\n",
              "        [0., 0., 0.]],\n",
              "\n",
              "       [[0., 0., 0.],\n",
              "        [0., 0., 0.],\n",
              "        [0., 0., 0.],\n",
              "        [0., 0., 0.],\n",
              "        [0., 0., 0.],\n",
              "        [0., 0., 0.]],\n",
              "\n",
              "       [[0., 0., 0.],\n",
              "        [0., 0., 0.],\n",
              "        [0., 0., 0.],\n",
              "        [0., 0., 0.],\n",
              "        [0., 0., 0.],\n",
              "        [0., 0., 0.]]])"
            ]
          },
          "execution_count": 10,
          "metadata": {},
          "output_type": "execute_result"
        }
      ],
      "source": [
        "# All 0s matrix\n",
        "pprint(np.zeros((5, 6, 3)))"
      ]
    },
    {
      "cell_type": "code",
      "execution_count": null,
      "metadata": {
        "colab": {
          "base_uri": "https://localhost:8080/"
        },
        "id": "VCBNOVprgw2w",
        "outputId": "912cd7f3-564a-46bd-ef48-44ae4def38e8"
      },
      "outputs": [
        {
          "data": {
            "text/plain": [
              "array([[1., 1., 1.],\n",
              "       [1., 1., 1.],\n",
              "       [1., 1., 1.]])"
            ]
          },
          "execution_count": 10,
          "metadata": {},
          "output_type": "execute_result"
        }
      ],
      "source": [
        "# All 1s matrix\n",
        "np.ones((3, 3))"
      ]
    },
    {
      "cell_type": "code",
      "execution_count": null,
      "metadata": {
        "colab": {
          "base_uri": "https://localhost:8080/"
        },
        "id": "RmqlrbS5gzpo",
        "outputId": "c674c339-9850-42a9-9245-3a064d992e2c"
      },
      "outputs": [
        {
          "data": {
            "text/plain": [
              "array([[4, 4],\n",
              "       [4, 4],\n",
              "       [4, 4],\n",
              "       [4, 4],\n",
              "       [4, 4]])"
            ]
          },
          "execution_count": 11,
          "metadata": {},
          "output_type": "execute_result"
        }
      ],
      "source": [
        "# Matrix filled with any number\n",
        "np.full((5,2), 4)"
      ]
    },
    {
      "cell_type": "code",
      "execution_count": null,
      "metadata": {
        "colab": {
          "base_uri": "https://localhost:8080/"
        },
        "id": "ZRdxFeDNg6_z",
        "outputId": "2715f38a-0c46-479c-ecfb-6c9dcbb90a03"
      },
      "outputs": [
        {
          "data": {
            "text/plain": [
              "array([[1., 0., 0., 0., 0.],\n",
              "       [0., 1., 0., 0., 0.],\n",
              "       [0., 0., 1., 0., 0.],\n",
              "       [0., 0., 0., 1., 0.],\n",
              "       [0., 0., 0., 0., 1.]])"
            ]
          },
          "execution_count": 13,
          "metadata": {},
          "output_type": "execute_result"
        }
      ],
      "source": [
        "# identity matrix I\n",
        "pprint(np.eye(5))"
      ]
    },
    {
      "cell_type": "code",
      "execution_count": null,
      "metadata": {
        "colab": {
          "base_uri": "https://localhost:8080/"
        },
        "id": "urhyX4m1g93Q",
        "outputId": "36cb3b5e-5fe8-4eae-fdd0-b6e48da99f9c"
      },
      "outputs": [
        {
          "data": {
            "text/plain": [
              "array([[4.33545666, 3.17653791],\n",
              "       [5.97147474, 1.84844841],\n",
              "       [6.92392344, 9.03716284],\n",
              "       [9.48334594, 6.93531191]])"
            ]
          },
          "execution_count": 12,
          "metadata": {},
          "output_type": "execute_result"
        }
      ],
      "source": [
        "# Random decimal numbers between 0-10\n",
        "np.random.rand(4,2) * 10"
      ]
    },
    {
      "cell_type": "markdown",
      "metadata": {},
      "source": [
        "## NumPy Gotchas!"
      ]
    },
    {
      "cell_type": "code",
      "execution_count": null,
      "metadata": {
        "colab": {
          "base_uri": "https://localhost:8080/"
        },
        "id": "zNIRL8gpyxvV",
        "outputId": "74d3fc7c-67fe-4969-ccb2-f540d8cad22f"
      },
      "outputs": [
        {
          "name": "stdout",
          "output_type": "stream",
          "text": [
            "[1 2 3]\n",
            "[1 2 3]\n"
          ]
        }
      ],
      "source": [
        "# python gotcha\n",
        "a = np.array([1,2,3])\n",
        "b = a\n",
        "\n",
        "print(a)\n",
        "print(b)"
      ]
    },
    {
      "cell_type": "code",
      "execution_count": null,
      "metadata": {
        "colab": {
          "base_uri": "https://localhost:8080/"
        },
        "id": "OH3lNYpPFCBy",
        "outputId": "f8e4549c-d553-4abc-e3a1-675f10eee411"
      },
      "outputs": [
        {
          "name": "stdout",
          "output_type": "stream",
          "text": [
            "[  1 100   3]\n"
          ]
        }
      ],
      "source": [
        "b[1] = 100\n",
        "print(b)"
      ]
    },
    {
      "cell_type": "code",
      "execution_count": null,
      "metadata": {
        "colab": {
          "base_uri": "https://localhost:8080/"
        },
        "id": "uv7OCmy6FK-C",
        "outputId": "8b42953a-0a80-4ad2-82dd-d22c0a3a4577"
      },
      "outputs": [
        {
          "name": "stdout",
          "output_type": "stream",
          "text": [
            "[  1 100   3]\n"
          ]
        }
      ],
      "source": [
        "print(a)"
      ]
    },
    {
      "cell_type": "code",
      "execution_count": null,
      "metadata": {
        "colab": {
          "base_uri": "https://localhost:8080/"
        },
        "id": "jTD8p0ZrhAdK",
        "outputId": "a9beedbc-01a1-4485-da41-ac3d007ee326"
      },
      "outputs": [
        {
          "name": "stdout",
          "output_type": "stream",
          "text": [
            "[1 2 3]\n",
            "[  1 100   3]\n"
          ]
        }
      ],
      "source": [
        "# Copying in numpy\n",
        "a = np.array([1,2,3])\n",
        "b = a.copy() # REMEMBER TO DO THIS. Otherwise, when b is mutated, a also changes\n",
        "\n",
        "b[1] = 100\n",
        "print(a)\n",
        "print(b)"
      ]
    },
    {
      "cell_type": "markdown",
      "metadata": {
        "id": "datKJcj9yA7Z"
      },
      "source": [
        "## NumPy Indexing, Slicing, and Accessing Elements"
      ]
    },
    {
      "cell_type": "code",
      "execution_count": null,
      "metadata": {
        "colab": {
          "base_uri": "https://localhost:8080/"
        },
        "id": "P15UQMeDyIat",
        "outputId": "009a99af-66a9-40a7-db99-d63a2bcf1979"
      },
      "outputs": [
        {
          "data": {
            "text/plain": [
              "100"
            ]
          },
          "execution_count": 17,
          "metadata": {},
          "output_type": "execute_result"
        }
      ],
      "source": [
        "python_list = [\n",
        "    ['apple', 'orange', 'banana'],\n",
        "    ['panda', 2, 100]]\n",
        "python_list[1][2]"
      ]
    },
    {
      "cell_type": "code",
      "execution_count": null,
      "metadata": {
        "colab": {
          "base_uri": "https://localhost:8080/"
        },
        "id": "Ze-TaMKuyrDr",
        "outputId": "4a3a4be8-54cd-4b9e-cfcb-ee4fc054eee4"
      },
      "outputs": [
        {
          "data": {
            "text/plain": [
              "(2, 7)"
            ]
          },
          "execution_count": 18,
          "metadata": {},
          "output_type": "execute_result"
        }
      ],
      "source": [
        "a = np.array([\n",
        "    [1,2,3,4,5,6,7],\n",
        "    [8,9,10,11,12,13,14]\n",
        "])\n",
        "a.shape"
      ]
    },
    {
      "cell_type": "code",
      "execution_count": null,
      "metadata": {
        "colab": {
          "base_uri": "https://localhost:8080/"
        },
        "id": "3RTCaRF-FvIl",
        "outputId": "71cf28a7-9d8f-4df4-8e21-6b8cd8929e39"
      },
      "outputs": [
        {
          "data": {
            "text/plain": [
              "11"
            ]
          },
          "execution_count": 19,
          "metadata": {},
          "output_type": "execute_result"
        }
      ],
      "source": [
        "a[1, 3]"
      ]
    },
    {
      "cell_type": "code",
      "execution_count": null,
      "metadata": {
        "colab": {
          "base_uri": "https://localhost:8080/"
        },
        "id": "j1geBPD4y50D",
        "outputId": "75406d19-6d3f-4a36-e58f-82ddc7c779c3"
      },
      "outputs": [
        {
          "data": {
            "text/plain": [
              "array([[ 1,  2,  3,  4,  5],\n",
              "       [ 8,  9, 10, 11, 12]])"
            ]
          },
          "execution_count": 20,
          "metadata": {},
          "output_type": "execute_result"
        }
      ],
      "source": [
        "# Get a specific element [row, col]\n",
        "# With slicing - [row_start:row_end, col_start:col_end]\n",
        "# Can leave out row_start / col_start if 0\n",
        "a[0:2, :-2]\n",
        "\n",
        "# note: this is first two rows, in this case all rows"
      ]
    },
    {
      "cell_type": "code",
      "execution_count": null,
      "metadata": {
        "colab": {
          "base_uri": "https://localhost:8080/"
        },
        "id": "PZsnBc1th1mR",
        "outputId": "b414390b-be98-45ac-8c72-b8d69c068903"
      },
      "outputs": [
        {
          "name": "stdout",
          "output_type": "stream",
          "text": [
            "[1 2 3 4 5 6 7]\n",
            "[ 5 12]\n"
          ]
        }
      ],
      "source": [
        "# Get a specific row\n",
        "row = a[0, :]\n",
        "print(row)\n",
        "\n",
        "# Get a specific column\n",
        "col = a[:, 4]\n",
        "print(col)"
      ]
    },
    {
      "cell_type": "code",
      "execution_count": null,
      "metadata": {
        "colab": {
          "base_uri": "https://localhost:8080/"
        },
        "id": "FEJI-qERGyRu",
        "outputId": "05a1ac04-3ff3-4706-980a-8b57313d1467"
      },
      "outputs": [
        {
          "data": {
            "text/plain": [
              "array([4, 5])"
            ]
          },
          "execution_count": 26,
          "metadata": {},
          "output_type": "execute_result"
        }
      ],
      "source": [
        "row[3:5]"
      ]
    },
    {
      "cell_type": "code",
      "execution_count": null,
      "metadata": {
        "colab": {
          "base_uri": "https://localhost:8080/"
        },
        "id": "AZ3Shq46h5W6",
        "outputId": "3c4c26aa-f34f-48bf-9ba6-7dfe4b1541af"
      },
      "outputs": [
        {
          "name": "stdout",
          "output_type": "stream",
          "text": [
            "[[ 1  2  1  4  5  6  7]\n",
            " [ 8  9  2 11 12 13 14]]\n"
          ]
        }
      ],
      "source": [
        "# Modify array\n",
        "a[:,2] = [1,2]\n",
        "print(a)"
      ]
    },
    {
      "cell_type": "code",
      "execution_count": null,
      "metadata": {
        "colab": {
          "base_uri": "https://localhost:8080/"
        },
        "id": "byB71kAjiCnW",
        "outputId": "5b00e1ba-e715-4e21-94dd-b7604064218b"
      },
      "outputs": [
        {
          "name": "stdout",
          "output_type": "stream",
          "text": [
            "[[[1 2]\n",
            "  [3 4]]\n",
            "\n",
            " [[5 6]\n",
            "  [7 8]]]\n",
            "7\n"
          ]
        }
      ],
      "source": [
        "# Example of indexing into 3D array\n",
        "\n",
        "c = np.array([\n",
        "    [[1,2],[3,4]],\n",
        "    [[5,6],[7,8]]\n",
        "  ])\n",
        "print(c)\n",
        "\n",
        "# access 1st row, 1st col, 0th value\n",
        "print(c[1, 1, 0])"
      ]
    },
    {
      "cell_type": "code",
      "execution_count": null,
      "metadata": {},
      "outputs": [],
      "source": [
        "# Boolean indexing \n",
        "x = np.random.random((3, 4))\n",
        "print(x[x > 0.5])"
      ]
    },
    {
      "cell_type": "markdown",
      "metadata": {
        "id": "ajUZe-hKjthE"
      },
      "source": [
        "## NumPy Shape-Shifting"
      ]
    },
    {
      "cell_type": "code",
      "execution_count": null,
      "metadata": {
        "colab": {
          "base_uri": "https://localhost:8080/"
        },
        "id": "kOnSCYsrj1TI",
        "outputId": "55c8459c-b651-4e55-8852-0cd6f1fcb4ff"
      },
      "outputs": [
        {
          "data": {
            "text/plain": [
              "array([1, 2, 3, 4])"
            ]
          },
          "execution_count": 28,
          "metadata": {},
          "output_type": "execute_result"
        }
      ],
      "source": [
        "# Concatenating arrays\n",
        "arr1 = np.array([1,2,3,4])\n",
        "arr2 = np.array([5,6,7,8])\n",
        "arr1"
      ]
    },
    {
      "cell_type": "code",
      "execution_count": null,
      "metadata": {
        "colab": {
          "base_uri": "https://localhost:8080/"
        },
        "id": "uw4vrDYWHXqC",
        "outputId": "f1a39b08-5394-4408-fd23-1b387698cb17"
      },
      "outputs": [
        {
          "data": {
            "text/plain": [
              "array([5, 6, 7, 8])"
            ]
          },
          "execution_count": 29,
          "metadata": {},
          "output_type": "execute_result"
        }
      ],
      "source": [
        "arr2"
      ]
    },
    {
      "cell_type": "code",
      "execution_count": null,
      "metadata": {
        "colab": {
          "base_uri": "https://localhost:8080/"
        },
        "id": "-FFRK7EZHVYy",
        "outputId": "cc4ee4d2-c593-4603-e1c0-eea4e84d2727"
      },
      "outputs": [
        {
          "data": {
            "text/plain": [
              "array([1, 2, 3, 4, 5, 6, 7, 8])"
            ]
          },
          "execution_count": 30,
          "metadata": {},
          "output_type": "execute_result"
        }
      ],
      "source": [
        "np.concatenate((arr1, arr2))"
      ]
    },
    {
      "cell_type": "code",
      "execution_count": null,
      "metadata": {
        "colab": {
          "base_uri": "https://localhost:8080/"
        },
        "id": "CPXY4BByj4zc",
        "outputId": "3e538e1d-2fd8-42f2-8c73-55a3a5307407"
      },
      "outputs": [
        {
          "data": {
            "text/plain": [
              "array([[1, 2, 3, 4],\n",
              "       [5, 6, 7, 8]])"
            ]
          },
          "execution_count": 31,
          "metadata": {},
          "output_type": "execute_result"
        }
      ],
      "source": [
        "# Vertically stacking vectors\n",
        "v1 = np.array([1,2,3,4])\n",
        "v2 = np.array([5,6,7,8])\n",
        "\n",
        "np.vstack([v1,v2])"
      ]
    },
    {
      "cell_type": "code",
      "execution_count": null,
      "metadata": {
        "colab": {
          "base_uri": "https://localhost:8080/"
        },
        "id": "87Z8an-_z_E_",
        "outputId": "f6a82f70-b295-4da9-8976-be80dd85262a"
      },
      "outputs": [
        {
          "data": {
            "text/plain": [
              "array([[1., 1., 1., 1., 1.],\n",
              "       [1., 1., 1., 1., 1.],\n",
              "       [1., 1., 1., 1., 1.],\n",
              "       [1., 1., 1., 1., 1.]])"
            ]
          },
          "execution_count": 32,
          "metadata": {},
          "output_type": "execute_result"
        }
      ],
      "source": [
        "h1 = np.ones((4,5))\n",
        "h1"
      ]
    },
    {
      "cell_type": "code",
      "execution_count": null,
      "metadata": {
        "colab": {
          "base_uri": "https://localhost:8080/"
        },
        "id": "MIHVXPcZ0CQ_",
        "outputId": "0db7559f-8027-4fd0-96b9-1f4511ad8767"
      },
      "outputs": [
        {
          "data": {
            "text/plain": [
              "array([[2, 2],\n",
              "       [2, 2],\n",
              "       [2, 2],\n",
              "       [2, 2]])"
            ]
          },
          "execution_count": 33,
          "metadata": {},
          "output_type": "execute_result"
        }
      ],
      "source": [
        "h2 = np.full((4,2), 2)\n",
        "h2"
      ]
    },
    {
      "cell_type": "code",
      "execution_count": null,
      "metadata": {
        "colab": {
          "base_uri": "https://localhost:8080/"
        },
        "id": "1WmrYIZNj7Lj",
        "outputId": "113670aa-23bd-41b0-90e0-212029046f44"
      },
      "outputs": [
        {
          "data": {
            "text/plain": [
              "array([[2., 2., 1., 1., 1., 1., 1.],\n",
              "       [2., 2., 1., 1., 1., 1., 1.],\n",
              "       [2., 2., 1., 1., 1., 1., 1.],\n",
              "       [2., 2., 1., 1., 1., 1., 1.]])"
            ]
          },
          "execution_count": 35,
          "metadata": {},
          "output_type": "execute_result"
        }
      ],
      "source": [
        "# Horizontal  stack\n",
        "np.hstack((h2,h1))"
      ]
    },
    {
      "cell_type": "code",
      "execution_count": null,
      "metadata": {
        "colab": {
          "base_uri": "https://localhost:8080/"
        },
        "id": "lVUCV-3tH0t3",
        "outputId": "8a4045ed-498a-4aae-8cf5-77d9e6572fbc"
      },
      "outputs": [
        {
          "name": "stdout",
          "output_type": "stream",
          "text": [
            "[[3 3 3 3 3 3 3 3]\n",
            " [3 3 3 3 3 3 3 3]\n",
            " [3 3 3 3 3 3 3 3]\n",
            " [3 3 3 3 3 3 3 3]]\n"
          ]
        }
      ],
      "source": [
        "# Reshape array\n",
        "a = np.full((4, 8), 3)\n",
        "print(a)"
      ]
    },
    {
      "cell_type": "code",
      "execution_count": null,
      "metadata": {
        "colab": {
          "base_uri": "https://localhost:8080/"
        },
        "id": "yHzFVNCOH3Uw",
        "outputId": "2077eea2-2477-4099-d1db-61fc151ed535"
      },
      "outputs": [
        {
          "name": "stdout",
          "output_type": "stream",
          "text": [
            "[3 3 3 3 3 3 3 3 3 3 3 3 3 3 3 3 3 3 3 3 3 3 3 3 3 3 3 3 3 3 3 3]\n"
          ]
        }
      ],
      "source": [
        "a_flat = a.flatten()\n",
        "print(a_flat)"
      ]
    },
    {
      "cell_type": "code",
      "execution_count": null,
      "metadata": {
        "colab": {
          "base_uri": "https://localhost:8080/"
        },
        "id": "yRdR9gIOlFL9",
        "outputId": "09516bab-1456-4986-8b81-67b0e52abf47"
      },
      "outputs": [
        {
          "name": "stdout",
          "output_type": "stream",
          "text": [
            "[[3 3 3 3 3 3 3 3 3 3 3 3 3 3 3 3]\n",
            " [3 3 3 3 3 3 3 3 3 3 3 3 3 3 3 3]]\n"
          ]
        }
      ],
      "source": [
        "# Reshap a_flat to a rectangle matrix\n",
        "b = np.reshape(a_flat, (2, 16))\n",
        "print(b)"
      ]
    },
    {
      "cell_type": "markdown",
      "metadata": {
        "id": "jjk_HAmdkHiP"
      },
      "source": [
        "## NumPy Array Operations"
      ]
    },
    {
      "cell_type": "code",
      "execution_count": null,
      "metadata": {
        "colab": {
          "base_uri": "https://localhost:8080/"
        },
        "id": "H5ZUgIfpkLfP",
        "outputId": "5b9454fb-050f-4c1a-f6ed-9b3ef6ee4967"
      },
      "outputs": [
        {
          "name": "stdout",
          "output_type": "stream",
          "text": [
            "[1 2 3 4]\n"
          ]
        }
      ],
      "source": [
        "a = np.array([1,2,3,4])\n",
        "print(a)"
      ]
    },
    {
      "cell_type": "code",
      "execution_count": null,
      "metadata": {
        "colab": {
          "base_uri": "https://localhost:8080/"
        },
        "id": "42AsHqojkQAE",
        "outputId": "dddeb1d4-4da7-416f-91ff-f9a2f5d9db35"
      },
      "outputs": [
        {
          "name": "stdout",
          "output_type": "stream",
          "text": [
            "[ 8  9 10 11]\n"
          ]
        }
      ],
      "source": [
        "# Add value to all elements at once\n",
        "print(a + 7)"
      ]
    },
    {
      "cell_type": "code",
      "execution_count": null,
      "metadata": {
        "colab": {
          "base_uri": "https://localhost:8080/"
        },
        "id": "wpmt_ZDzkV3m",
        "outputId": "42033a97-f2c1-4e10-f806-2d50aec6be51"
      },
      "outputs": [
        {
          "name": "stdout",
          "output_type": "stream",
          "text": [
            "[ 3  6  9 12]\n"
          ]
        }
      ],
      "source": [
        "# Multiply all elements in a by value\n",
        "print(a * 3)"
      ]
    },
    {
      "cell_type": "code",
      "execution_count": null,
      "metadata": {
        "colab": {
          "base_uri": "https://localhost:8080/"
        },
        "id": "7H0Q2mE4ka7p",
        "outputId": "66ff655c-4ddc-47ca-dc17-94428cd44968"
      },
      "outputs": [
        {
          "name": "stdout",
          "output_type": "stream",
          "text": [
            "[0.5 1.  1.5 2. ]\n"
          ]
        }
      ],
      "source": [
        "# Divide all elements in a by value\n",
        "print(a / 2)"
      ]
    },
    {
      "cell_type": "code",
      "execution_count": null,
      "metadata": {
        "colab": {
          "base_uri": "https://localhost:8080/"
        },
        "id": "FDquIoiWkgzs",
        "outputId": "4f8fed80-74a9-4a44-abf7-2b09c01f7c99"
      },
      "outputs": [
        {
          "name": "stdout",
          "output_type": "stream",
          "text": [
            "[ 5  7  9 11]\n"
          ]
        }
      ],
      "source": [
        "# Add 2 arrays together\n",
        "b = np.array([4, 5, 6, 7]) # Needs to be the same shape!\n",
        "\n",
        "print(a + b)"
      ]
    },
    {
      "cell_type": "code",
      "execution_count": null,
      "metadata": {
        "colab": {
          "base_uri": "https://localhost:8080/"
        },
        "id": "piIvI4Mdkqbd",
        "outputId": "2a175c01-db69-46d3-ea34-f61f4baf27a2"
      },
      "outputs": [
        {
          "name": "stdout",
          "output_type": "stream",
          "text": [
            "[ 4 10 18 28]\n"
          ]
        }
      ],
      "source": [
        "# Multiply 2 arrays together\n",
        "print(a * b) # Needs to be the same shape!"
      ]
    },
    {
      "cell_type": "code",
      "execution_count": null,
      "metadata": {
        "colab": {
          "base_uri": "https://localhost:8080/"
        },
        "id": "bbxtJ9zKk2aw",
        "outputId": "05edd0f7-d46b-4a24-97cb-ffa1e60c3b4d"
      },
      "outputs": [
        {
          "data": {
            "text/plain": [
              "array([-0.7568025 , -0.54402111, -0.75098725,  0.27090579])"
            ]
          },
          "execution_count": 43,
          "metadata": {},
          "output_type": "execute_result"
        }
      ],
      "source": [
        "# Take the sin / cos of arrays\n",
        "# For a lot more (https://docs.scipy.org/doc/numpy/reference/routines.math.html)\n",
        "np.sin(a * b)"
      ]
    },
    {
      "cell_type": "code",
      "execution_count": null,
      "metadata": {
        "colab": {
          "base_uri": "https://localhost:8080/"
        },
        "id": "4lPe33sVk9Ob",
        "outputId": "97ea9add-dc99-4831-f262-1e367b773137"
      },
      "outputs": [
        {
          "name": "stdout",
          "output_type": "stream",
          "text": [
            "[[1 2]\n",
            " [2 3]]\n",
            "[[1 2]\n",
            " [2 3]\n",
            " [3 3]]\n"
          ]
        }
      ],
      "source": [
        "# Perform linear algebra operations\n",
        "\n",
        "# shape (2, 2)\n",
        "a = np.array([\n",
        "    [1, 2],\n",
        "    [2, 3]\n",
        "])\n",
        "\n",
        "# shape (3, 2)\n",
        "b = np.array([\n",
        "    [1, 2],\n",
        "    [2, 3],\n",
        "    [3, 3]\n",
        "])\n",
        "\n",
        "print(a)\n",
        "print(b)"
      ]
    },
    {
      "cell_type": "code",
      "execution_count": null,
      "metadata": {
        "colab": {
          "base_uri": "https://localhost:8080/",
          "height": 232
        },
        "id": "GqN3mqCE0UnE",
        "outputId": "a8f07dae-91bd-44ba-adf5-89ada2594196"
      },
      "outputs": [
        {
          "ename": "ValueError",
          "evalue": "ignored",
          "output_type": "error",
          "traceback": [
            "\u001b[0;31m---------------------------------------------------------------------------\u001b[0m",
            "\u001b[0;31mValueError\u001b[0m                                Traceback (most recent call last)",
            "\u001b[0;32m<ipython-input-45-b53ac683f7a8>\u001b[0m in \u001b[0;36m<cell line: 2>\u001b[0;34m()\u001b[0m\n\u001b[1;32m      1\u001b[0m \u001b[0;31m# Error!\u001b[0m\u001b[0;34m\u001b[0m\u001b[0;34m\u001b[0m\u001b[0m\n\u001b[0;32m----> 2\u001b[0;31m \u001b[0mc\u001b[0m \u001b[0;34m=\u001b[0m \u001b[0mnp\u001b[0m\u001b[0;34m.\u001b[0m\u001b[0mmatmul\u001b[0m\u001b[0;34m(\u001b[0m\u001b[0ma\u001b[0m\u001b[0;34m,\u001b[0m \u001b[0mb\u001b[0m\u001b[0;34m)\u001b[0m\u001b[0;34m\u001b[0m\u001b[0;34m\u001b[0m\u001b[0m\n\u001b[0m",
            "\u001b[0;31mValueError\u001b[0m: matmul: Input operand 1 has a mismatch in its core dimension 0, with gufunc signature (n?,k),(k,m?)->(n?,m?) (size 3 is different from 2)"
          ]
        }
      ],
      "source": [
        "# Error!\n",
        "c = np.matmul(a, b)"
      ]
    },
    {
      "cell_type": "code",
      "execution_count": null,
      "metadata": {
        "colab": {
          "base_uri": "https://localhost:8080/"
        },
        "id": "PPiD_DG2Jj8u",
        "outputId": "0200bdce-62b5-41c6-f509-98f4a491691b"
      },
      "outputs": [
        {
          "data": {
            "text/plain": [
              "array([[1, 2, 3],\n",
              "       [2, 3, 3]])"
            ]
          },
          "execution_count": 46,
          "metadata": {},
          "output_type": "execute_result"
        }
      ],
      "source": [
        "b.transpose()\n",
        "# alternatively\n",
        "# b.T"
      ]
    },
    {
      "cell_type": "code",
      "execution_count": null,
      "metadata": {
        "colab": {
          "base_uri": "https://localhost:8080/"
        },
        "id": "ghnZjt4IlsnW",
        "outputId": "069dc76c-e5da-458a-b291-b0731885502c"
      },
      "outputs": [
        {
          "name": "stdout",
          "output_type": "stream",
          "text": [
            "[[ 5  8  9]\n",
            " [ 8 13 15]]\n"
          ]
        }
      ],
      "source": [
        "c = np.matmul(a, b.transpose()) # (2, 2) x (2, 3) => (2, 3)\n",
        "# alternatively\n",
        "# c = a @ b.T\n",
        "print(c)"
      ]
    },
    {
      "cell_type": "markdown",
      "metadata": {},
      "source": [
        "There are many NumPy operations that can be used to reduce a numpy array along an axis.\n",
        "\n",
        "Let's look at the np.max operation (documentation: https://numpy.org/doc/stable/reference/generated/numpy.ndarray.max.html)."
      ]
    },
    {
      "cell_type": "code",
      "execution_count": null,
      "metadata": {},
      "outputs": [],
      "source": [
        "x = np.array([[1,2],[3,4], [5, 6]]) \n",
        "print(np.max(x, axis = 1))\n",
        "print(np.max(x, axis = 1).shape)\n",
        "print(np.max(x, axis = 1, keepdims = True))\n",
        "print(np.max(x, axis = 1, keepdims = True).shape)"
      ]
    },
    {
      "cell_type": "markdown",
      "metadata": {},
      "source": [
        "Vectors can be represented as 1-D arrays of shape (N,) or 2-D arrays of shape (N, 1) or (1, N). But it's important to note that the shapes (N,), (N, 1), and (1,N) are not the same and may result in different behavior (we'll see some examples below involving broadcasting).\n",
        "\n",
        "Matrices are generally represented as 2-D arrays of shape (M, N).\n",
        "\n",
        "The best way to ensure your code gives you the behavior you expect is to keep track of your array shapes and try out small test cases or refer back to documentation when you are unsure.\n"
      ]
    },
    {
      "cell_type": "markdown",
      "metadata": {},
      "source": [
        "## Numpy Broadcasting"
      ]
    },
    {
      "cell_type": "markdown",
      "metadata": {},
      "source": [
        "The term broadcasting describes how NumPy treats arrays with different shapes during arithmetic operations.\n",
        "\n",
        "General Broadcasting Rules\n",
        "\n",
        "When operating on two arrays, NumPy compares their shapes element-wise. It starts with the trailing (i.e. rightmost) dimensions and works its way left. Two dimensions are compatible when:\n",
        "\n",
        "1. they are equal, or\n",
        "2. one of them is 1 (in which case, elements on the axis are repeated along the dimension)\n",
        "\n",
        "More details: https://numpy.org/doc/stable/user/basics.broadcasting.html"
      ]
    },
    {
      "cell_type": "code",
      "execution_count": null,
      "metadata": {},
      "outputs": [],
      "source": [
        "x = np.random.random((3, 4))\n",
        "\n",
        "y = np.random.random((3, 1))\n",
        "z = np.random.random((1, 4))\n",
        "\n",
        "# In this example, y and z are broadcasted to match the shape of x. \n",
        "# y is broadcasted along dim 1.\n",
        "s = x + y\n",
        "# z is broadcasted along dim 0.\n",
        "p = x * z"
      ]
    },
    {
      "cell_type": "code",
      "execution_count": null,
      "metadata": {},
      "outputs": [],
      "source": [
        "print(x.shape)\n",
        "print()\n",
        "print(y.shape)\n",
        "print(s.shape)"
      ]
    },
    {
      "cell_type": "code",
      "execution_count": null,
      "metadata": {},
      "outputs": [],
      "source": [
        "print(x.shape)\n",
        "print()\n",
        "print(s.shape)\n",
        "print(p.shape)"
      ]
    },
    {
      "cell_type": "code",
      "execution_count": null,
      "metadata": {},
      "outputs": [],
      "source": [
        "a = np.zeros((3, 3))\n",
        "b = np.array([[1, 2, 3]])\n",
        "print(a)\n",
        "print()\n",
        "print(a+b)"
      ]
    },
    {
      "cell_type": "markdown",
      "metadata": {},
      "source": [
        "Lets look at a more complex example"
      ]
    },
    {
      "cell_type": "code",
      "execution_count": null,
      "metadata": {},
      "outputs": [],
      "source": [
        "a = np.random.random((3, 4))\n",
        "b = np.random.random((3, 1))\n",
        "c = np.random.random((3, ))"
      ]
    },
    {
      "cell_type": "markdown",
      "metadata": {},
      "source": [
        "What is the expected broadcasting behavior for these operations? What do the following operations give us? What are the resulting shapes?"
      ]
    },
    {
      "cell_type": "code",
      "execution_count": null,
      "metadata": {},
      "outputs": [],
      "source": [
        "result1 = b + b.T\n",
        "\n",
        "print(b.shape)\n",
        "print(b.T.shape)\n",
        "print(result1.shape)\n",
        "print(result1)"
      ]
    },
    {
      "cell_type": "code",
      "execution_count": null,
      "metadata": {},
      "outputs": [],
      "source": [
        "result2 = a + c\n",
        "\n",
        "print(a.shape)\n",
        "print(c.shape)\n",
        "print(result2.shape)\n",
        "print(result2)"
      ]
    },
    {
      "cell_type": "code",
      "execution_count": null,
      "metadata": {},
      "outputs": [],
      "source": [
        "result3 = b + c\n",
        "\n",
        "print(b.shape)\n",
        "print(c.shape)\n",
        "print(result3.shape)\n",
        "print(result3)"
      ]
    },
    {
      "cell_type": "markdown",
      "metadata": {
        "id": "laiSCJO-jQhp"
      },
      "source": [
        "## Load data from file into NumPy"
      ]
    },
    {
      "cell_type": "markdown",
      "metadata": {},
      "source": [
        "Here is an example on how we might import data using NumPy, but note that in the subsequent week we will use a standard tool Pandas to load that data in a much more robust manner!"
      ]
    },
    {
      "cell_type": "code",
      "execution_count": null,
      "metadata": {
        "colab": {
          "base_uri": "https://localhost:8080/"
        },
        "id": "BASBHqSxjEZF",
        "outputId": "03b59534-3703-4dc9-b505-9a5be854ba33"
      },
      "outputs": [
        {
          "name": "stdout",
          "output_type": "stream",
          "text": [
            "(17000, 9)\n"
          ]
        }
      ],
      "source": [
        "filedata = np.genfromtxt('./../data/california_housing_train.csv', delimiter=',', skip_header=1)\n",
        "\n",
        "print(filedata.shape)"
      ]
    },
    {
      "cell_type": "code",
      "execution_count": null,
      "metadata": {
        "colab": {
          "base_uri": "https://localhost:8080/"
        },
        "id": "KVvIvtqDKRQb",
        "outputId": "5252cf1f-beee-4877-93de-7d5dc141ab09"
      },
      "outputs": [
        {
          "data": {
            "text/plain": [
              "array([[-1.1431e+02,  3.4190e+01,  1.5000e+01,  5.6120e+03,  1.2830e+03,\n",
              "         1.0150e+03,  4.7200e+02,  1.4936e+00,  6.6900e+04],\n",
              "       [-1.1447e+02,  3.4400e+01,  1.9000e+01,  7.6500e+03,  1.9010e+03,\n",
              "         1.1290e+03,  4.6300e+02,  1.8200e+00,  8.0100e+04],\n",
              "       [-1.1456e+02,  3.3690e+01,  1.7000e+01,  7.2000e+02,  1.7400e+02,\n",
              "         3.3300e+02,  1.1700e+02,  1.6509e+00,  8.5700e+04]])"
            ]
          },
          "execution_count": 44,
          "metadata": {},
          "output_type": "execute_result"
        }
      ],
      "source": [
        "filedata[:3]"
      ]
    },
    {
      "cell_type": "code",
      "execution_count": null,
      "metadata": {
        "colab": {
          "base_uri": "https://localhost:8080/"
        },
        "id": "ohbxxpuSjYMx",
        "outputId": "31a56d9f-2914-4131-9b26-412ec0ad87c0"
      },
      "outputs": [
        {
          "data": {
            "text/plain": [
              "(17000,)"
            ]
          },
          "execution_count": 45,
          "metadata": {},
          "output_type": "execute_result"
        }
      ],
      "source": [
        "total_rooms = filedata[:, 3]\n",
        "total_rooms.shape"
      ]
    },
    {
      "cell_type": "code",
      "execution_count": null,
      "metadata": {
        "colab": {
          "base_uri": "https://localhost:8080/"
        },
        "id": "R0IVxDMjKP-n",
        "outputId": "269b90cd-3239-409a-8ec6-8895fc583f58"
      },
      "outputs": [
        {
          "data": {
            "text/plain": [
              "array([5612., 7650.,  720.])"
            ]
          },
          "execution_count": 46,
          "metadata": {},
          "output_type": "execute_result"
        }
      ],
      "source": [
        "total_rooms[:3]"
      ]
    },
    {
      "cell_type": "code",
      "execution_count": null,
      "metadata": {
        "colab": {
          "base_uri": "https://localhost:8080/"
        },
        "id": "Mvqyf8BJjiXR",
        "outputId": "8032406a-ec25-4add-cc5a-8e000e0d8de7"
      },
      "outputs": [
        {
          "name": "stdout",
          "output_type": "stream",
          "text": [
            "2.0\n",
            "37937.0\n"
          ]
        }
      ],
      "source": [
        "print(min(total_rooms))\n",
        "print(max(total_rooms))"
      ]
    },
    {
      "cell_type": "code",
      "execution_count": null,
      "metadata": {
        "colab": {
          "base_uri": "https://localhost:8080/"
        },
        "id": "JMiNhWYk0csC",
        "outputId": "e7999834-976f-4a87-8b49-becd98c2069a"
      },
      "outputs": [
        {
          "data": {
            "text/plain": [
              "array([[4],\n",
              "       [4],\n",
              "       [4],\n",
              "       ...,\n",
              "       [4],\n",
              "       [4],\n",
              "       [4]])"
            ]
          },
          "execution_count": 58,
          "metadata": {},
          "output_type": "execute_result"
        }
      ],
      "source": [
        "num_persons_living = np.full((17000, 1), 4)\n",
        "num_persons_living"
      ]
    },
    {
      "cell_type": "code",
      "execution_count": null,
      "metadata": {
        "colab": {
          "base_uri": "https://localhost:8080/"
        },
        "id": "P6xESED2jn2s",
        "outputId": "aadf6d96-f5b4-400f-b51e-d19905fe7964"
      },
      "outputs": [
        {
          "name": "stdout",
          "output_type": "stream",
          "text": [
            "(17000, 10)\n"
          ]
        }
      ],
      "source": [
        "# concatenate a new column to existing data\n",
        "num_persons_living = np.full((17000, 1), 4)\n",
        "\n",
        "filedata = np.hstack((filedata, num_persons_living))\n",
        "print(filedata.shape)"
      ]
    },
    {
      "cell_type": "code",
      "execution_count": null,
      "metadata": {
        "id": "KHDoaAYNmETY"
      },
      "outputs": [],
      "source": []
    }
  ],
  "metadata": {
    "colab": {
      "collapsed_sections": [
        "jjk_HAmdkHiP",
        "laiSCJO-jQhp"
      ],
      "provenance": []
    },
    "kernelspec": {
      "display_name": "Python 3",
      "name": "python3"
    },
    "language_info": {
      "codemirror_mode": {
        "name": "ipython",
        "version": 3
      },
      "file_extension": ".py",
      "mimetype": "text/x-python",
      "name": "python",
      "nbconvert_exporter": "python",
      "pygments_lexer": "ipython3",
      "version": "3.9.6"
    }
  },
  "nbformat": 4,
  "nbformat_minor": 0
}
