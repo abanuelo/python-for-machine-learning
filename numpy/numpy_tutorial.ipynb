{
  "cells": [
    {
      "cell_type": "markdown",
      "metadata": {
        "id": "u5O3oSo5hHcg"
      },
      "source": [
        "# Numpy Tutorial\n",
        "[NumPy](https://numpy.org/) is a Python library, which adds support for large, multi-dimensional arrays and matrices, along with a large collection of optimized, high-level mathematical functions to operate on these arrays."
      ]
    },
    {
      "cell_type": "code",
      "execution_count": null,
      "metadata": {
        "id": "ma9gJaHdumDW"
      },
      "outputs": [],
      "source": [
        "import numpy as np\n",
        "import pprint"
      ]
    },
    {
      "cell_type": "markdown",
      "metadata": {
        "id": "gpq64TXphHch"
      },
      "source": [
        "## Efficient NumPy Code"
      ]
    },
    {
      "cell_type": "markdown",
      "metadata": {
        "id": "Y29xgBAvhHch"
      },
      "source": [
        "When working with numpy arrays, avoid explicit for-loops over indices/axes at all costs. For-loops will dramatically slow down your code (~10-100x)."
      ]
    },
    {
      "cell_type": "code",
      "source": [
        "x = np.random.rand(1000, 1000)\n",
        "print(x)\n",
        "print(x.shape)"
      ],
      "metadata": {
        "colab": {
          "base_uri": "https://localhost:8080/"
        },
        "id": "McPNTFYeRHsw",
        "outputId": "8c5415ac-75ca-4289-ebf5-3fc403bd460d"
      },
      "execution_count": null,
      "outputs": [
        {
          "output_type": "stream",
          "name": "stdout",
          "text": [
            "[[0.07993215 0.28101942 0.40735065 ... 0.20513009 0.38444955 0.15651815]\n",
            " [0.23007307 0.29131075 0.95781509 ... 0.1861681  0.0568567  0.80969363]\n",
            " [0.29644164 0.20659125 0.76911334 ... 0.29202348 0.39242785 0.98400858]\n",
            " ...\n",
            " [0.05657928 0.12480111 0.08316539 ... 0.27038095 0.60124476 0.89826781]\n",
            " [0.36016737 0.83838789 0.4512551  ... 0.65197443 0.00660182 0.50812266]\n",
            " [0.80910693 0.13961392 0.84679725 ... 0.83709918 0.15109663 0.76963322]]\n",
            "(1000, 1000)\n"
          ]
        }
      ]
    },
    {
      "cell_type": "code",
      "execution_count": null,
      "metadata": {
        "colab": {
          "base_uri": "https://localhost:8080/"
        },
        "id": "zH2PVX5ZhHch",
        "outputId": "c06f2c30-6120-467a-e274-e550a2264047"
      },
      "outputs": [
        {
          "output_type": "stream",
          "name": "stdout",
          "text": [
            "350 ms ± 17.5 ms per loop (mean ± std. dev. of 7 runs, 1 loop each)\n"
          ]
        }
      ],
      "source": [
        "%%timeit\n",
        "x = np.random.rand(1000, 1000)\n",
        "for i in range(100, 1000):\n",
        "    for j in range(x.shape[1]):\n",
        "        x[i, j] += 5"
      ]
    },
    {
      "cell_type": "code",
      "execution_count": null,
      "metadata": {
        "colab": {
          "base_uri": "https://localhost:8080/"
        },
        "id": "zcKbbmV1hHch",
        "outputId": "11cc220f-db54-48b9-8edc-f1635b8dfdc3"
      },
      "outputs": [
        {
          "output_type": "stream",
          "name": "stdout",
          "text": [
            "13.6 ms ± 2.54 ms per loop (mean ± std. dev. of 7 runs, 100 loops each)\n"
          ]
        }
      ],
      "source": [
        "%%timeit\n",
        "x = np.random.rand(1000, 1000)\n",
        "x[np.arange(100,1000), :] += 5"
      ]
    },
    {
      "cell_type": "markdown",
      "metadata": {
        "id": "5vWvQD3wwMTK"
      },
      "source": [
        "## NumPy Arrays\n"
      ]
    },
    {
      "cell_type": "code",
      "execution_count": null,
      "metadata": {
        "id": "5VGpPTvYwRP4"
      },
      "outputs": [],
      "source": [
        "# Create numpy arrays from lists\n",
        "a = [1, 2, 3, 4, 5]  # normal python list\n",
        "numpy_a = np.array([1, 2, 3, 4, 5], dtype='int16') # numpy 1d array"
      ]
    },
    {
      "cell_type": "code",
      "execution_count": null,
      "metadata": {
        "colab": {
          "base_uri": "https://localhost:8080/"
        },
        "id": "aC2RX9ldCOui",
        "outputId": "9fe177a8-f7d3-4b59-aaef-4ab75d2aeda8"
      },
      "outputs": [
        {
          "output_type": "stream",
          "name": "stdout",
          "text": [
            "[1 2 3 4 5]\n",
            "(5,)\n"
          ]
        }
      ],
      "source": [
        "# Let's take a look at their shapes.\n",
        "# When working with numpy arrays, .shape will be a very useful debugging tool\n",
        "print(numpy_a)\n",
        "print(numpy_a.shape)"
      ]
    },
    {
      "cell_type": "code",
      "execution_count": null,
      "metadata": {
        "id": "5mlEUTR0gRQ2"
      },
      "outputs": [],
      "source": [
        "# numpy 2d array\n",
        "b = np.array([\n",
        "    [9.0,8.0,7.0],\n",
        "    [6.0,5.0,4.0]\n",
        "])\n",
        "# a = np.copy(b[:,:])"
      ]
    },
    {
      "cell_type": "markdown",
      "source": [],
      "metadata": {
        "id": "aiEDJ43_mSxN"
      }
    },
    {
      "cell_type": "code",
      "source": [
        "print(b.shape)"
      ],
      "metadata": {
        "colab": {
          "base_uri": "https://localhost:8080/"
        },
        "id": "J3qUDR6TmS9Q",
        "outputId": "20bd7ac2-a25e-4555-f887-dc2bae77f819"
      },
      "execution_count": null,
      "outputs": [
        {
          "output_type": "stream",
          "name": "stdout",
          "text": [
            "(2, 3)\n"
          ]
        }
      ]
    },
    {
      "cell_type": "code",
      "execution_count": null,
      "metadata": {
        "colab": {
          "base_uri": "https://localhost:8080/"
        },
        "id": "hqsxuHUUDwN9",
        "outputId": "1ef4130d-676c-48f5-a157-13d07fb4d6a0"
      },
      "outputs": [
        {
          "output_type": "stream",
          "name": "stdout",
          "text": [
            "2\n",
            "float64\n",
            "48\n"
          ]
        }
      ],
      "source": [
        "# Get Dimensions\n",
        "print(b.ndim)\n",
        "\n",
        "# Get Type\n",
        "print(b.dtype)\n",
        "\n",
        "# Get Size\n",
        "print(b.nbytes)"
      ]
    },
    {
      "cell_type": "code",
      "source": [
        "arr = np.array([1, 2, 3], ndmin=2)\n",
        "print(arr.shape)\n",
        "print(arr)"
      ],
      "metadata": {
        "colab": {
          "base_uri": "https://localhost:8080/"
        },
        "id": "t4pXJnkCmigc",
        "outputId": "db21fb2f-3981-49ae-b898-9f7f3e15bf2b"
      },
      "execution_count": null,
      "outputs": [
        {
          "output_type": "stream",
          "name": "stdout",
          "text": [
            "(1, 3)\n",
            "[[1 2 3]]\n"
          ]
        }
      ]
    },
    {
      "cell_type": "markdown",
      "metadata": {
        "id": "1K0eLRfZgqwU"
      },
      "source": [
        "# More types of NumPy initializations"
      ]
    },
    {
      "cell_type": "code",
      "execution_count": null,
      "metadata": {
        "colab": {
          "base_uri": "https://localhost:8080/"
        },
        "id": "Y3pAqy1eguxf",
        "outputId": "8c4b2837-6872-4c93-9d54-e0d3af0035aa"
      },
      "outputs": [
        {
          "output_type": "stream",
          "name": "stdout",
          "text": [
            "[[[0. 0. 0.]\n",
            "  [0. 0. 0.]\n",
            "  [0. 0. 0.]\n",
            "  [0. 0. 0.]\n",
            "  [0. 0. 0.]\n",
            "  [0. 0. 0.]]\n",
            "\n",
            " [[0. 0. 0.]\n",
            "  [0. 0. 0.]\n",
            "  [0. 0. 0.]\n",
            "  [0. 0. 0.]\n",
            "  [0. 0. 0.]\n",
            "  [0. 0. 0.]]\n",
            "\n",
            " [[0. 0. 0.]\n",
            "  [0. 0. 0.]\n",
            "  [0. 0. 0.]\n",
            "  [0. 0. 0.]\n",
            "  [0. 0. 0.]\n",
            "  [0. 0. 0.]]\n",
            "\n",
            " [[0. 0. 0.]\n",
            "  [0. 0. 0.]\n",
            "  [0. 0. 0.]\n",
            "  [0. 0. 0.]\n",
            "  [0. 0. 0.]\n",
            "  [0. 0. 0.]]\n",
            "\n",
            " [[0. 0. 0.]\n",
            "  [0. 0. 0.]\n",
            "  [0. 0. 0.]\n",
            "  [0. 0. 0.]\n",
            "  [0. 0. 0.]\n",
            "  [0. 0. 0.]]]\n"
          ]
        }
      ],
      "source": [
        "# All 0s matrix\n",
        "print(np.zeros((5, 6, 3)))"
      ]
    },
    {
      "cell_type": "code",
      "execution_count": null,
      "metadata": {
        "colab": {
          "base_uri": "https://localhost:8080/"
        },
        "id": "VCBNOVprgw2w",
        "outputId": "c41b4a2e-75f0-4d87-9b9d-582acb6278d5"
      },
      "outputs": [
        {
          "output_type": "execute_result",
          "data": {
            "text/plain": [
              "array([[1., 1., 1.],\n",
              "       [1., 1., 1.],\n",
              "       [1., 1., 1.]])"
            ]
          },
          "metadata": {},
          "execution_count": 33
        }
      ],
      "source": [
        "# All 1s matrix\n",
        "np.ones((3, 3))"
      ]
    },
    {
      "cell_type": "code",
      "execution_count": null,
      "metadata": {
        "colab": {
          "base_uri": "https://localhost:8080/"
        },
        "id": "RmqlrbS5gzpo",
        "outputId": "396f2094-c3b9-4aa1-dc61-ba18e0298050"
      },
      "outputs": [
        {
          "output_type": "execute_result",
          "data": {
            "text/plain": [
              "array([[4, 4],\n",
              "       [4, 4],\n",
              "       [4, 4],\n",
              "       [4, 4],\n",
              "       [4, 4]])"
            ]
          },
          "metadata": {},
          "execution_count": 34
        }
      ],
      "source": [
        "# Matrix filled with any number\n",
        "np.full((5,2), 4)"
      ]
    },
    {
      "cell_type": "code",
      "execution_count": null,
      "metadata": {
        "colab": {
          "base_uri": "https://localhost:8080/"
        },
        "id": "ZRdxFeDNg6_z",
        "outputId": "44dca26b-f858-406b-b805-11ce225eee1d"
      },
      "outputs": [
        {
          "output_type": "stream",
          "name": "stdout",
          "text": [
            "[[1. 0. 0. 0. 0.]\n",
            " [0. 1. 0. 0. 0.]\n",
            " [0. 0. 1. 0. 0.]\n",
            " [0. 0. 0. 1. 0.]\n",
            " [0. 0. 0. 0. 1.]]\n"
          ]
        }
      ],
      "source": [
        "# identity matrix I\n",
        "# A X I = A, I X A = A\n",
        "print(np.eye(5))"
      ]
    },
    {
      "cell_type": "code",
      "execution_count": null,
      "metadata": {
        "colab": {
          "base_uri": "https://localhost:8080/"
        },
        "id": "urhyX4m1g93Q",
        "outputId": "e3da8c70-179f-4364-8fff-564b50f02474"
      },
      "outputs": [
        {
          "output_type": "execute_result",
          "data": {
            "text/plain": [
              "array([[4.03469071, 8.00465193],\n",
              "       [2.27152406, 9.67279793],\n",
              "       [6.84825245, 1.35941906],\n",
              "       [5.85398377, 9.87542897]])"
            ]
          },
          "metadata": {},
          "execution_count": 37
        }
      ],
      "source": [
        "# Random decimal numbers between 0-10\n",
        "np.random.rand(4,2) * 10"
      ]
    },
    {
      "cell_type": "markdown",
      "metadata": {
        "id": "DjfZUTemhHci"
      },
      "source": [
        "## NumPy Gotchas!"
      ]
    },
    {
      "cell_type": "code",
      "execution_count": null,
      "metadata": {
        "colab": {
          "base_uri": "https://localhost:8080/"
        },
        "id": "zNIRL8gpyxvV",
        "outputId": "5d51d173-141e-49ed-a6e0-fe7ec0b2d505"
      },
      "outputs": [
        {
          "output_type": "stream",
          "name": "stdout",
          "text": [
            "[1 2 3]\n",
            "[1 2 3]\n"
          ]
        }
      ],
      "source": [
        "# python gotcha\n",
        "a = np.array([1,2,3])\n",
        "b = a\n",
        "\n",
        "print(a)\n",
        "print(b)"
      ]
    },
    {
      "cell_type": "code",
      "execution_count": null,
      "metadata": {
        "colab": {
          "base_uri": "https://localhost:8080/"
        },
        "id": "OH3lNYpPFCBy",
        "outputId": "60743af4-719a-4be0-f78b-928f51dac367"
      },
      "outputs": [
        {
          "output_type": "stream",
          "name": "stdout",
          "text": [
            "[  1 100   3]\n"
          ]
        }
      ],
      "source": [
        "b[1] = 100\n",
        "print(b)"
      ]
    },
    {
      "cell_type": "code",
      "execution_count": null,
      "metadata": {
        "colab": {
          "base_uri": "https://localhost:8080/"
        },
        "id": "uv7OCmy6FK-C",
        "outputId": "e403e137-ecd7-4524-e993-5a42cc2860c5"
      },
      "outputs": [
        {
          "output_type": "stream",
          "name": "stdout",
          "text": [
            "[  1 100   3]\n"
          ]
        }
      ],
      "source": [
        "print(a)"
      ]
    },
    {
      "cell_type": "code",
      "execution_count": null,
      "metadata": {
        "colab": {
          "base_uri": "https://localhost:8080/"
        },
        "id": "jTD8p0ZrhAdK",
        "outputId": "acdc61a1-ad2a-4ee6-df54-6a545ac3995f"
      },
      "outputs": [
        {
          "output_type": "stream",
          "name": "stdout",
          "text": [
            "[1 2 3]\n",
            "[  1 100   3]\n"
          ]
        }
      ],
      "source": [
        "# Copying in numpy\n",
        "a = np.array([1,2,3])\n",
        "b = a.copy() # REMEMBER TO DO THIS. Otherwise, when b is mutated, a also changes\n",
        "# b = np.copy(a)\n",
        "# b = a[:]\n",
        "\n",
        "b[1] = 100\n",
        "print(a)\n",
        "print(b)"
      ]
    },
    {
      "cell_type": "markdown",
      "metadata": {
        "id": "datKJcj9yA7Z"
      },
      "source": [
        "## NumPy Indexing, Slicing, and Accessing Elements"
      ]
    },
    {
      "cell_type": "code",
      "execution_count": null,
      "metadata": {
        "colab": {
          "base_uri": "https://localhost:8080/"
        },
        "id": "P15UQMeDyIat",
        "outputId": "93dad458-0e7b-49d2-df6f-314d0f9519eb"
      },
      "outputs": [
        {
          "output_type": "execute_result",
          "data": {
            "text/plain": [
              "100"
            ]
          },
          "metadata": {},
          "execution_count": 19
        }
      ],
      "source": [
        "python_list = [\n",
        "    ['apple', 'orange', 'banana'],\n",
        "    ['panda', 2, 100]]\n",
        "python_list[1][2]"
      ]
    },
    {
      "cell_type": "code",
      "execution_count": null,
      "metadata": {
        "colab": {
          "base_uri": "https://localhost:8080/"
        },
        "id": "Ze-TaMKuyrDr",
        "outputId": "b09b7e9f-1a37-4eb1-a28b-b8875ca7ab6a"
      },
      "outputs": [
        {
          "output_type": "execute_result",
          "data": {
            "text/plain": [
              "(2, 7)"
            ]
          },
          "metadata": {},
          "execution_count": 43
        }
      ],
      "source": [
        "a = np.array([\n",
        "    [1,2,3,4,5,6,7],\n",
        "    [8,9,10,11,12,13,14]\n",
        "])\n",
        "# [[ 1  2  1  4  5  6  7]\n",
        "#  [ 8  9  2 11 12 13 14]]\n",
        "a.shape"
      ]
    },
    {
      "cell_type": "code",
      "execution_count": null,
      "metadata": {
        "colab": {
          "base_uri": "https://localhost:8080/"
        },
        "id": "3RTCaRF-FvIl",
        "outputId": "79bd71ca-8b50-4dfb-caaa-e458c70048cf"
      },
      "outputs": [
        {
          "output_type": "execute_result",
          "data": {
            "text/plain": [
              "11"
            ]
          },
          "metadata": {},
          "execution_count": 21
        }
      ],
      "source": [
        "a[1, 3]"
      ]
    },
    {
      "cell_type": "code",
      "source": [
        "a[:1, :-2]"
      ],
      "metadata": {
        "colab": {
          "base_uri": "https://localhost:8080/"
        },
        "id": "99Zt-szkp2EU",
        "outputId": "155eb0fd-79aa-45b3-9f6b-caf9de766779"
      },
      "execution_count": null,
      "outputs": [
        {
          "output_type": "execute_result",
          "data": {
            "text/plain": [
              "array([[1, 2, 3, 4]])"
            ]
          },
          "metadata": {},
          "execution_count": 49
        }
      ]
    },
    {
      "cell_type": "code",
      "execution_count": null,
      "metadata": {
        "colab": {
          "base_uri": "https://localhost:8080/"
        },
        "id": "j1geBPD4y50D",
        "outputId": "ec4225ca-4165-4281-a516-acc485e4c837"
      },
      "outputs": [
        {
          "output_type": "execute_result",
          "data": {
            "text/plain": [
              "array([[ 1,  2,  3,  4],\n",
              "       [ 8,  9, 10, 11]])"
            ]
          },
          "metadata": {},
          "execution_count": 52
        }
      ],
      "source": [
        "# Get a specific element [row, col]\n",
        "# With slicing - [row_start:row_end, col_start:col_end]\n",
        "# Can leave out row_start / col_start if 0\n",
        "a[0:2, :-3]\n",
        "\n",
        "# note: this is first two rows, in this case all rows"
      ]
    },
    {
      "cell_type": "code",
      "execution_count": null,
      "metadata": {
        "colab": {
          "base_uri": "https://localhost:8080/"
        },
        "id": "PZsnBc1th1mR",
        "outputId": "c5faaf86-794e-43bf-98a0-4e61a7a637be"
      },
      "outputs": [
        {
          "output_type": "stream",
          "name": "stdout",
          "text": [
            "[1 2 3 4 5 6 7]\n",
            "[ 5 12]\n"
          ]
        }
      ],
      "source": [
        "# Get a specific row\n",
        "row = a[0, :]\n",
        "print(row)\n",
        "\n",
        "# Get a specific column\n",
        "col = a[:, 4]\n",
        "print(col)"
      ]
    },
    {
      "cell_type": "code",
      "execution_count": null,
      "metadata": {
        "colab": {
          "base_uri": "https://localhost:8080/"
        },
        "id": "FEJI-qERGyRu",
        "outputId": "7bf83ad6-1a5d-470e-8632-5e7e5de5af6f"
      },
      "outputs": [
        {
          "output_type": "execute_result",
          "data": {
            "text/plain": [
              "array([4, 5])"
            ]
          },
          "metadata": {},
          "execution_count": 54
        }
      ],
      "source": [
        "row[3:5]"
      ]
    },
    {
      "cell_type": "code",
      "execution_count": null,
      "metadata": {
        "colab": {
          "base_uri": "https://localhost:8080/"
        },
        "id": "AZ3Shq46h5W6",
        "outputId": "c3c6f576-2424-41fb-9860-b1ca48efda9e"
      },
      "outputs": [
        {
          "output_type": "stream",
          "name": "stdout",
          "text": [
            "[[ 1  2  1  4  5  6  7]\n",
            " [ 8  9  2 11 12 13 14]]\n"
          ]
        }
      ],
      "source": [
        "# Modify array\n",
        "a[:,2] = [1,2]\n",
        "print(a)"
      ]
    },
    {
      "cell_type": "code",
      "execution_count": null,
      "metadata": {
        "colab": {
          "base_uri": "https://localhost:8080/"
        },
        "id": "byB71kAjiCnW",
        "outputId": "c119f4ce-97b0-44ee-ba13-a299a3d57599"
      },
      "outputs": [
        {
          "output_type": "stream",
          "name": "stdout",
          "text": [
            "[[[1 2]\n",
            "  [3 4]]\n",
            "\n",
            " [[5 6]\n",
            "  [7 8]]]\n",
            "7\n"
          ]
        }
      ],
      "source": [
        "# Example of indexing into 3D array\n",
        "\n",
        "c = np.array([\n",
        "    [[1,2],[3,4]],\n",
        "    [[5,6],[7,8]]\n",
        "  ])\n",
        "print(c)\n",
        "\n",
        "# access 1st row, 1st col, 0th value\n",
        "print(c[1, 1, 0])"
      ]
    },
    {
      "cell_type": "code",
      "execution_count": null,
      "metadata": {
        "colab": {
          "base_uri": "https://localhost:8080/"
        },
        "id": "UFUC-2REhHcj",
        "outputId": "75496cd5-775d-44df-b3b3-482467dec14b"
      },
      "outputs": [
        {
          "output_type": "stream",
          "name": "stdout",
          "text": [
            "[0.84637712 0.57964259 0.81078834 0.86061689 0.82474922 0.66783449\n",
            " 0.98202978]\n"
          ]
        }
      ],
      "source": [
        "# Boolean indexing\n",
        "x = np.random.random((3, 4))\n",
        "print(x[x > 0.5])"
      ]
    },
    {
      "cell_type": "markdown",
      "metadata": {
        "id": "ajUZe-hKjthE"
      },
      "source": [
        "## NumPy Shape-Shifting"
      ]
    },
    {
      "cell_type": "code",
      "execution_count": null,
      "metadata": {
        "colab": {
          "base_uri": "https://localhost:8080/"
        },
        "id": "kOnSCYsrj1TI",
        "outputId": "b6190f32-da8c-4bc5-868c-50ca39508a6f"
      },
      "outputs": [
        {
          "output_type": "execute_result",
          "data": {
            "text/plain": [
              "array([1, 2, 3, 4])"
            ]
          },
          "metadata": {},
          "execution_count": 61
        }
      ],
      "source": [
        "# Concatenating arrays\n",
        "arr1 = np.array([1,2,3,4])\n",
        "arr2 = np.array([5,6,7,8])\n",
        "arr1"
      ]
    },
    {
      "cell_type": "code",
      "execution_count": null,
      "metadata": {
        "colab": {
          "base_uri": "https://localhost:8080/"
        },
        "id": "uw4vrDYWHXqC",
        "outputId": "6e62fcb9-da7b-4954-9947-b76d923d50a4"
      },
      "outputs": [
        {
          "output_type": "execute_result",
          "data": {
            "text/plain": [
              "array([5, 6, 7, 8])"
            ]
          },
          "metadata": {},
          "execution_count": 62
        }
      ],
      "source": [
        "arr2"
      ]
    },
    {
      "cell_type": "code",
      "execution_count": null,
      "metadata": {
        "colab": {
          "base_uri": "https://localhost:8080/"
        },
        "id": "-FFRK7EZHVYy",
        "outputId": "73de0608-3594-4e3a-e541-319bc96900a7"
      },
      "outputs": [
        {
          "output_type": "execute_result",
          "data": {
            "text/plain": [
              "array([1, 2, 3, 4, 5, 6, 7, 8])"
            ]
          },
          "metadata": {},
          "execution_count": 63
        }
      ],
      "source": [
        "np.concatenate((arr1, arr2))"
      ]
    },
    {
      "cell_type": "code",
      "execution_count": null,
      "metadata": {
        "colab": {
          "base_uri": "https://localhost:8080/"
        },
        "id": "CPXY4BByj4zc",
        "outputId": "6dd626cf-5ff6-4228-d8c8-8193aff10281"
      },
      "outputs": [
        {
          "output_type": "execute_result",
          "data": {
            "text/plain": [
              "array([[1, 2, 3, 4],\n",
              "       [5, 6, 7, 8]])"
            ]
          },
          "metadata": {},
          "execution_count": 64
        }
      ],
      "source": [
        "# Vertically stacking vectors\n",
        "v1 = np.array([1,2,3,4])\n",
        "v2 = np.array([5,6,7,8])\n",
        "\n",
        "np.vstack([v1,v2])"
      ]
    },
    {
      "cell_type": "code",
      "execution_count": null,
      "metadata": {
        "colab": {
          "base_uri": "https://localhost:8080/"
        },
        "id": "87Z8an-_z_E_",
        "outputId": "5815480d-451a-42b5-8f1f-ee8a5d0e8ff6"
      },
      "outputs": [
        {
          "output_type": "execute_result",
          "data": {
            "text/plain": [
              "array([[1., 1., 1., 1., 1.],\n",
              "       [1., 1., 1., 1., 1.],\n",
              "       [1., 1., 1., 1., 1.],\n",
              "       [1., 1., 1., 1., 1.]])"
            ]
          },
          "metadata": {},
          "execution_count": 66
        }
      ],
      "source": [
        "h1 = np.ones((4,5))\n",
        "h1"
      ]
    },
    {
      "cell_type": "code",
      "execution_count": null,
      "metadata": {
        "colab": {
          "base_uri": "https://localhost:8080/"
        },
        "id": "MIHVXPcZ0CQ_",
        "outputId": "3858d945-ba7e-469f-d6f0-93f142774725"
      },
      "outputs": [
        {
          "output_type": "execute_result",
          "data": {
            "text/plain": [
              "array([[2, 2],\n",
              "       [2, 2],\n",
              "       [2, 2],\n",
              "       [2, 2]])"
            ]
          },
          "metadata": {},
          "execution_count": 67
        }
      ],
      "source": [
        "h2 = np.full((4,2), 2)\n",
        "h2"
      ]
    },
    {
      "cell_type": "code",
      "execution_count": null,
      "metadata": {
        "colab": {
          "base_uri": "https://localhost:8080/"
        },
        "id": "1WmrYIZNj7Lj",
        "outputId": "7d5a75b4-54a8-4150-913f-2a1e325389ba"
      },
      "outputs": [
        {
          "output_type": "execute_result",
          "data": {
            "text/plain": [
              "array([[2., 2., 1., 1., 1., 1., 1.],\n",
              "       [2., 2., 1., 1., 1., 1., 1.],\n",
              "       [2., 2., 1., 1., 1., 1., 1.],\n",
              "       [2., 2., 1., 1., 1., 1., 1.]])"
            ]
          },
          "metadata": {},
          "execution_count": 68
        }
      ],
      "source": [
        "# Horizontal  stack\n",
        "np.hstack((h2,h1))"
      ]
    },
    {
      "cell_type": "code",
      "execution_count": null,
      "metadata": {
        "colab": {
          "base_uri": "https://localhost:8080/"
        },
        "id": "lVUCV-3tH0t3",
        "outputId": "f8b0efa1-82d6-41bf-d959-43a596154503"
      },
      "outputs": [
        {
          "output_type": "stream",
          "name": "stdout",
          "text": [
            "[[3 3 3 3 3 3 3 3]\n",
            " [3 3 3 3 3 3 3 3]\n",
            " [3 3 3 3 3 3 3 3]\n",
            " [3 3 3 3 3 3 3 3]]\n"
          ]
        }
      ],
      "source": [
        "# Reshape array\n",
        "a = np.full((4, 8), 3)\n",
        "print(a)"
      ]
    },
    {
      "cell_type": "code",
      "execution_count": null,
      "metadata": {
        "colab": {
          "base_uri": "https://localhost:8080/"
        },
        "id": "yHzFVNCOH3Uw",
        "outputId": "fa688b2a-9305-4439-c512-cb22199ed565"
      },
      "outputs": [
        {
          "output_type": "stream",
          "name": "stdout",
          "text": [
            "[3 3 3 3 3 3 3 3 3 3 3 3 3 3 3 3 3 3 3 3 3 3 3 3 3 3 3 3 3 3 3 3]\n"
          ]
        }
      ],
      "source": [
        "a_flat = a.flatten()\n",
        "print(a_flat)"
      ]
    },
    {
      "cell_type": "code",
      "execution_count": null,
      "metadata": {
        "colab": {
          "base_uri": "https://localhost:8080/"
        },
        "id": "yRdR9gIOlFL9",
        "outputId": "c41c1bf2-b2ab-4ef9-c9db-f520c9a103b3"
      },
      "outputs": [
        {
          "output_type": "stream",
          "name": "stdout",
          "text": [
            "[[3 3 3 3 3 3 3 3 3 3 3 3 3 3 3 3]\n",
            " [3 3 3 3 3 3 3 3 3 3 3 3 3 3 3 3]]\n"
          ]
        }
      ],
      "source": [
        "# Reshap a_flat to a rectangle matrix\n",
        "b = np.reshape(a, (2, 16))\n",
        "print(b)"
      ]
    },
    {
      "cell_type": "markdown",
      "metadata": {
        "id": "jjk_HAmdkHiP"
      },
      "source": [
        "## NumPy Array Operations"
      ]
    },
    {
      "cell_type": "code",
      "execution_count": null,
      "metadata": {
        "colab": {
          "base_uri": "https://localhost:8080/"
        },
        "id": "H5ZUgIfpkLfP",
        "outputId": "869a4819-595c-41be-8d81-bb9d03667bf7"
      },
      "outputs": [
        {
          "output_type": "stream",
          "name": "stdout",
          "text": [
            "[1 2 3 4]\n"
          ]
        }
      ],
      "source": [
        "a = np.array([1,2,3,4])\n",
        "print(a)"
      ]
    },
    {
      "cell_type": "code",
      "execution_count": null,
      "metadata": {
        "colab": {
          "base_uri": "https://localhost:8080/"
        },
        "id": "42AsHqojkQAE",
        "outputId": "ac500fc6-774f-4b84-be8f-db0babc0264a"
      },
      "outputs": [
        {
          "output_type": "stream",
          "name": "stdout",
          "text": [
            "[ 8  9 10 11]\n"
          ]
        }
      ],
      "source": [
        "# Add value to all elements at once\n",
        "print(a + 7)"
      ]
    },
    {
      "cell_type": "code",
      "execution_count": null,
      "metadata": {
        "colab": {
          "base_uri": "https://localhost:8080/"
        },
        "id": "wpmt_ZDzkV3m",
        "outputId": "49827310-4096-4c35-a1ca-30188112e2ae"
      },
      "outputs": [
        {
          "output_type": "stream",
          "name": "stdout",
          "text": [
            "[ 3  6  9 12]\n"
          ]
        }
      ],
      "source": [
        "# Multiply all elements in a by value\n",
        "print(a * 3)"
      ]
    },
    {
      "cell_type": "code",
      "execution_count": null,
      "metadata": {
        "colab": {
          "base_uri": "https://localhost:8080/"
        },
        "id": "7H0Q2mE4ka7p",
        "outputId": "eeca1f9f-3940-4250-cc04-9037aeec8022"
      },
      "outputs": [
        {
          "output_type": "stream",
          "name": "stdout",
          "text": [
            "[0.5 1.  1.5 2. ]\n"
          ]
        }
      ],
      "source": [
        "# Divide all elements in a by value\n",
        "print(a / 2)"
      ]
    },
    {
      "cell_type": "code",
      "execution_count": null,
      "metadata": {
        "colab": {
          "base_uri": "https://localhost:8080/"
        },
        "id": "FDquIoiWkgzs",
        "outputId": "c18a4fe1-3f71-4938-ebb5-dcebe5ce7f1f"
      },
      "outputs": [
        {
          "output_type": "stream",
          "name": "stdout",
          "text": [
            "[ 5  7  9 11]\n"
          ]
        }
      ],
      "source": [
        "# Add 2 arrays together\n",
        "b = np.array([4, 5, 6, 7]) # Needs to be the same shape!\n",
        "\n",
        "print(a + b)"
      ]
    },
    {
      "cell_type": "code",
      "execution_count": null,
      "metadata": {
        "colab": {
          "base_uri": "https://localhost:8080/"
        },
        "id": "piIvI4Mdkqbd",
        "outputId": "9ca68fb8-a070-46c9-99d2-b788dfa62080"
      },
      "outputs": [
        {
          "output_type": "stream",
          "name": "stdout",
          "text": [
            "[ 4 10 18 28]\n"
          ]
        }
      ],
      "source": [
        "# Multiply 2 arrays together\n",
        "print(a * b) # Needs to be the same shape!"
      ]
    },
    {
      "cell_type": "code",
      "execution_count": null,
      "metadata": {
        "colab": {
          "base_uri": "https://localhost:8080/"
        },
        "id": "bbxtJ9zKk2aw",
        "outputId": "8a872ffd-00e6-433a-cc23-5e9aa4d321a0"
      },
      "outputs": [
        {
          "output_type": "execute_result",
          "data": {
            "text/plain": [
              "array([-0.7568025 , -0.54402111, -0.75098725,  0.27090579])"
            ]
          },
          "metadata": {},
          "execution_count": 44
        }
      ],
      "source": [
        "# Take the sin / cos of arrays\n",
        "# For a lot more (https://docs.scipy.org/doc/numpy/reference/routines.math.html)\n",
        "np.sin(a * b)"
      ]
    },
    {
      "cell_type": "code",
      "execution_count": null,
      "metadata": {
        "colab": {
          "base_uri": "https://localhost:8080/"
        },
        "id": "4lPe33sVk9Ob",
        "outputId": "0dfafa87-a65e-4d66-c98c-6f00b7ecd4d0"
      },
      "outputs": [
        {
          "output_type": "stream",
          "name": "stdout",
          "text": [
            "[[1 2]\n",
            " [2 3]]\n",
            "[[1 2]\n",
            " [2 3]\n",
            " [3 3]]\n"
          ]
        }
      ],
      "source": [
        "# Perform linear algebra operations\n",
        "\n",
        "# shape (2, 2)\n",
        "a = np.array([\n",
        "    [1, 2],\n",
        "    [2, 3]\n",
        "])\n",
        "\n",
        "# shape (3, 2)\n",
        "b = np.array([\n",
        "    [1, 2],\n",
        "    [2, 3],\n",
        "    [3, 3]\n",
        "])\n",
        "\n",
        "print(a)\n",
        "print(b)"
      ]
    },
    {
      "cell_type": "code",
      "execution_count": null,
      "metadata": {
        "colab": {
          "base_uri": "https://localhost:8080/",
          "height": 162
        },
        "id": "GqN3mqCE0UnE",
        "outputId": "61dd9bab-48e3-4de6-a23f-08b668e90959"
      },
      "outputs": [
        {
          "output_type": "error",
          "ename": "ValueError",
          "evalue": "matmul: Input operand 1 has a mismatch in its core dimension 0, with gufunc signature (n?,k),(k,m?)->(n?,m?) (size 3 is different from 2)",
          "traceback": [
            "\u001b[0;31m---------------------------------------------------------------------------\u001b[0m",
            "\u001b[0;31mValueError\u001b[0m                                Traceback (most recent call last)",
            "\u001b[0;32m<ipython-input-46-b53ac683f7a8>\u001b[0m in \u001b[0;36m<cell line: 2>\u001b[0;34m()\u001b[0m\n\u001b[1;32m      1\u001b[0m \u001b[0;31m# Error!\u001b[0m\u001b[0;34m\u001b[0m\u001b[0;34m\u001b[0m\u001b[0m\n\u001b[0;32m----> 2\u001b[0;31m \u001b[0mc\u001b[0m \u001b[0;34m=\u001b[0m \u001b[0mnp\u001b[0m\u001b[0;34m.\u001b[0m\u001b[0mmatmul\u001b[0m\u001b[0;34m(\u001b[0m\u001b[0ma\u001b[0m\u001b[0;34m,\u001b[0m \u001b[0mb\u001b[0m\u001b[0;34m)\u001b[0m\u001b[0;34m\u001b[0m\u001b[0;34m\u001b[0m\u001b[0m\n\u001b[0m",
            "\u001b[0;31mValueError\u001b[0m: matmul: Input operand 1 has a mismatch in its core dimension 0, with gufunc signature (n?,k),(k,m?)->(n?,m?) (size 3 is different from 2)"
          ]
        }
      ],
      "source": [
        "# Error!\n",
        "c = np.matmul(a, b)"
      ]
    },
    {
      "cell_type": "code",
      "execution_count": null,
      "metadata": {
        "colab": {
          "base_uri": "https://localhost:8080/"
        },
        "id": "PPiD_DG2Jj8u",
        "outputId": "7a4a0129-2804-435b-eca1-26a4b09f887c"
      },
      "outputs": [
        {
          "output_type": "execute_result",
          "data": {
            "text/plain": [
              "array([[1, 2, 3],\n",
              "       [2, 3, 3]])"
            ]
          },
          "metadata": {},
          "execution_count": 47
        }
      ],
      "source": [
        "b.transpose()\n",
        "# alternatively\n",
        "# b.T"
      ]
    },
    {
      "cell_type": "code",
      "execution_count": null,
      "metadata": {
        "colab": {
          "base_uri": "https://localhost:8080/"
        },
        "id": "ghnZjt4IlsnW",
        "outputId": "fd651d02-7db7-437c-a7ed-74d120007d1f"
      },
      "outputs": [
        {
          "output_type": "stream",
          "name": "stdout",
          "text": [
            "[[ 5  8  9]\n",
            " [ 8 13 15]]\n"
          ]
        }
      ],
      "source": [
        "c = np.matmul(a, b.transpose()) # (2, 2) x (2, 3) => (2, 3)\n",
        "# alternatively\n",
        "# c = a @ b.T\n",
        "print(c)"
      ]
    },
    {
      "cell_type": "markdown",
      "metadata": {
        "id": "6CjoORYFhHcs"
      },
      "source": [
        "There are many NumPy operations that can be used to reduce a numpy array along an axis.\n",
        "\n",
        "Let's look at the np.max operation (documentation: https://numpy.org/doc/stable/reference/generated/numpy.ndarray.max.html)."
      ]
    },
    {
      "cell_type": "code",
      "execution_count": null,
      "metadata": {
        "colab": {
          "base_uri": "https://localhost:8080/"
        },
        "id": "4D0d2mMhhHcs",
        "outputId": "a0ede53c-a2b6-42bd-bcea-51480cd9b92e"
      },
      "outputs": [
        {
          "output_type": "stream",
          "name": "stdout",
          "text": [
            "[2 4 6]\n",
            "(3,)\n",
            "[[2]\n",
            " [4]\n",
            " [6]]\n",
            "(3, 1)\n",
            "[5 6]\n"
          ]
        }
      ],
      "source": [
        "x = np.array([[1,2],[3,4], [5, 6]])\n",
        "print(np.max(x, axis = 1))\n",
        "print(np.max(x, axis = 1).shape)\n",
        "print(np.max(x, axis = 1, keepdims = True))\n",
        "print(np.max(x, axis = 1, keepdims = True).shape)\n",
        "print(np.max(x, axis=0))"
      ]
    },
    {
      "cell_type": "markdown",
      "metadata": {
        "id": "Tt5pBqoFhHcs"
      },
      "source": [
        "Vectors can be represented as 1-D arrays of shape (N,) or 2-D arrays of shape (N, 1) or (1, N). But it's important to note that the shapes (N,), (N, 1), and (1,N) are not the same and may result in different behavior (we'll see some examples below involving broadcasting).\n",
        "\n",
        "Matrices are generally represented as 2-D arrays of shape (M, N).\n",
        "\n",
        "The best way to ensure your code gives you the behavior you expect is to keep track of your array shapes and try out small test cases or refer back to documentation when you are unsure.\n"
      ]
    },
    {
      "cell_type": "markdown",
      "metadata": {
        "id": "ir_AmfBEhHcs"
      },
      "source": [
        "## Numpy Broadcasting"
      ]
    },
    {
      "cell_type": "markdown",
      "metadata": {
        "id": "xev3b5fNhHcs"
      },
      "source": [
        "The term broadcasting describes how NumPy treats arrays with different shapes during arithmetic operations.\n",
        "\n",
        "General Broadcasting Rules\n",
        "\n",
        "When operating on two arrays, NumPy compares their shapes element-wise. It starts with the trailing (i.e. rightmost) dimensions and works its way left. Two dimensions are compatible when:\n",
        "\n",
        "1. they are equal, or\n",
        "2. one of them is 1 (in which case, elements on the axis are repeated along the dimension)\n",
        "\n",
        "More details: https://numpy.org/doc/stable/user/basics.broadcasting.html"
      ]
    },
    {
      "cell_type": "code",
      "execution_count": null,
      "metadata": {
        "id": "vX0i3Ml2hHcs",
        "colab": {
          "base_uri": "https://localhost:8080/"
        },
        "outputId": "ee9cdca6-d91c-42bb-8a65-4d5a12186e6f"
      },
      "outputs": [
        {
          "output_type": "stream",
          "name": "stdout",
          "text": [
            "[[0.51308928 0.12832542 0.35675201 0.28302769]\n",
            " [0.88020751 0.96392069 0.61588513 0.291866  ]\n",
            " [0.45150472 0.52547826 0.9600468  0.74454236]]\n",
            "------\n",
            "[[0.22641109]\n",
            " [0.73436413]\n",
            " [0.75498088]]\n",
            "------\n",
            "[[0.73950037 0.35473651 0.5831631  0.50943878]\n",
            " [1.61457164 1.69828483 1.35024927 1.02623013]\n",
            " [1.2064856  1.28045914 1.71502769 1.49952324]]\n",
            "====\n",
            "[[0.51308928 0.12832542 0.35675201 0.28302769]\n",
            " [0.88020751 0.96392069 0.61588513 0.291866  ]\n",
            " [0.45150472 0.52547826 0.9600468  0.74454236]]\n",
            "------\n",
            "[[0.51633108 0.75031044 0.96501076 0.77137993]]\n",
            "------\n",
            "[[0.26492394 0.0962839  0.34426953 0.21832188]\n",
            " [0.45447849 0.72323976 0.59433578 0.22513957]\n",
            " [0.23312592 0.39427182 0.9264555  0.57432503]]\n"
          ]
        }
      ],
      "source": [
        "x = np.random.random((3, 4))\n",
        "\n",
        "y = np.random.random((3, 1))\n",
        "z = np.random.random((1, 4))\n",
        "\n",
        "# In this example, y and z are broadcasted to match the shape of x.\n",
        "# y is broadcasted along dim 1.\n",
        "s = x + y\n",
        "# z is broadcasted along dim 0.\n",
        "p = x * z\n",
        "print(x)\n",
        "print(\"------\")\n",
        "print(y)\n",
        "print(\"------\")\n",
        "print(s)\n",
        "print(\"====\")\n",
        "print(x)\n",
        "print(\"------\")\n",
        "print(z)\n",
        "print(\"------\")\n",
        "print(p)"
      ]
    },
    {
      "cell_type": "code",
      "source": [
        "t = y * z\n",
        "print(t)"
      ],
      "metadata": {
        "colab": {
          "base_uri": "https://localhost:8080/"
        },
        "id": "yjZOBmm6aWxo",
        "outputId": "378feb3e-df36-47d6-9e96-36c8dac4cddc"
      },
      "execution_count": null,
      "outputs": [
        {
          "output_type": "stream",
          "name": "stdout",
          "text": [
            "[[0.11690308 0.1698786  0.21848914 0.17464897]\n",
            " [0.37917502 0.55100107 0.70866929 0.56647375]\n",
            " [0.38982009 0.56647003 0.72856467 0.5823771 ]]\n"
          ]
        }
      ]
    },
    {
      "cell_type": "code",
      "execution_count": null,
      "metadata": {
        "colab": {
          "base_uri": "https://localhost:8080/"
        },
        "id": "ZPJTfGjdhHcs",
        "outputId": "efcee290-4a4b-4a4b-e3d1-18115d30b57e"
      },
      "outputs": [
        {
          "output_type": "stream",
          "name": "stdout",
          "text": [
            "(3, 4)\n",
            "\n",
            "(3, 1)\n",
            "(3, 4)\n"
          ]
        }
      ],
      "source": [
        "print(x.shape)\n",
        "print()\n",
        "print(y.shape)\n",
        "print(s.shape)"
      ]
    },
    {
      "cell_type": "code",
      "execution_count": null,
      "metadata": {
        "colab": {
          "base_uri": "https://localhost:8080/"
        },
        "id": "WyecEd04hHcs",
        "outputId": "6bf330fd-7916-4fa8-b91a-87781b23dfde"
      },
      "outputs": [
        {
          "output_type": "stream",
          "name": "stdout",
          "text": [
            "(3, 4)\n",
            "\n",
            "(3, 4)\n",
            "(3, 4)\n"
          ]
        }
      ],
      "source": [
        "print(x.shape)\n",
        "print()\n",
        "print(s.shape)\n",
        "print(p.shape)"
      ]
    },
    {
      "cell_type": "code",
      "execution_count": null,
      "metadata": {
        "colab": {
          "base_uri": "https://localhost:8080/"
        },
        "id": "Ld0QpFEjhHcs",
        "outputId": "bfdc866a-1b1f-423a-911a-6cedbe5f9c55"
      },
      "outputs": [
        {
          "output_type": "stream",
          "name": "stdout",
          "text": [
            "[[0. 0. 0.]\n",
            " [0. 0. 0.]\n",
            " [0. 0. 0.]]\n",
            "\n",
            "[[1. 2. 3.]\n",
            " [1. 2. 3.]\n",
            " [1. 2. 3.]]\n"
          ]
        }
      ],
      "source": [
        "a = np.zeros((3, 3))\n",
        "b = np.array([[1, 2, 3]])\n",
        "print(a)\n",
        "print()\n",
        "print(a+b)"
      ]
    },
    {
      "cell_type": "markdown",
      "metadata": {
        "id": "lWgpAsuIhHct"
      },
      "source": [
        "Lets look at a more complex example"
      ]
    },
    {
      "cell_type": "code",
      "execution_count": null,
      "metadata": {
        "id": "eSUKfnDRhHct"
      },
      "outputs": [],
      "source": [
        "a = np.random.random((3, 4))\n",
        "b = np.random.random((3, 1))\n",
        "c = np.random.random((3, ))"
      ]
    },
    {
      "cell_type": "markdown",
      "metadata": {
        "id": "vbccKcl4hHct"
      },
      "source": [
        "What is the expected broadcasting behavior for these operations? What do the following operations give us? What are the resulting shapes?"
      ]
    },
    {
      "cell_type": "code",
      "execution_count": null,
      "metadata": {
        "colab": {
          "base_uri": "https://localhost:8080/"
        },
        "id": "2_dLNt2whHct",
        "outputId": "a0d154e0-991b-403d-f63c-3ce9b633e226"
      },
      "outputs": [
        {
          "output_type": "stream",
          "name": "stdout",
          "text": [
            "(3, 1)\n",
            "(1, 3)\n",
            "(3, 3)\n",
            "[[1.07879141 0.71891198 1.02804904]\n",
            " [0.71891198 0.35903254 0.66816961]\n",
            " [1.02804904 0.66816961 0.97730667]]\n"
          ]
        }
      ],
      "source": [
        "result1 = b + b.T\n",
        "\n",
        "print(b.shape)\n",
        "print(b.T.shape)\n",
        "print(result1.shape)\n",
        "print(result1)"
      ]
    },
    {
      "cell_type": "code",
      "execution_count": null,
      "metadata": {
        "colab": {
          "base_uri": "https://localhost:8080/",
          "height": 216
        },
        "id": "a752UMXthHct",
        "outputId": "94711d20-6bdd-4401-9f1c-7de84498aa6c"
      },
      "outputs": [
        {
          "output_type": "error",
          "ename": "ValueError",
          "evalue": "operands could not be broadcast together with shapes (3,4) (3,) ",
          "traceback": [
            "\u001b[0;31m---------------------------------------------------------------------------\u001b[0m",
            "\u001b[0;31mValueError\u001b[0m                                Traceback (most recent call last)",
            "\u001b[0;32m<ipython-input-56-490e280e0ca0>\u001b[0m in \u001b[0;36m<cell line: 1>\u001b[0;34m()\u001b[0m\n\u001b[0;32m----> 1\u001b[0;31m \u001b[0mresult2\u001b[0m \u001b[0;34m=\u001b[0m \u001b[0ma\u001b[0m \u001b[0;34m+\u001b[0m \u001b[0mc\u001b[0m\u001b[0;34m\u001b[0m\u001b[0;34m\u001b[0m\u001b[0m\n\u001b[0m\u001b[1;32m      2\u001b[0m \u001b[0;34m\u001b[0m\u001b[0m\n\u001b[1;32m      3\u001b[0m \u001b[0mprint\u001b[0m\u001b[0;34m(\u001b[0m\u001b[0ma\u001b[0m\u001b[0;34m.\u001b[0m\u001b[0mshape\u001b[0m\u001b[0;34m)\u001b[0m\u001b[0;34m\u001b[0m\u001b[0;34m\u001b[0m\u001b[0m\n\u001b[1;32m      4\u001b[0m \u001b[0mprint\u001b[0m\u001b[0;34m(\u001b[0m\u001b[0mc\u001b[0m\u001b[0;34m.\u001b[0m\u001b[0mshape\u001b[0m\u001b[0;34m)\u001b[0m\u001b[0;34m\u001b[0m\u001b[0;34m\u001b[0m\u001b[0m\n\u001b[1;32m      5\u001b[0m \u001b[0mprint\u001b[0m\u001b[0;34m(\u001b[0m\u001b[0mresult2\u001b[0m\u001b[0;34m.\u001b[0m\u001b[0mshape\u001b[0m\u001b[0;34m)\u001b[0m\u001b[0;34m\u001b[0m\u001b[0;34m\u001b[0m\u001b[0m\n",
            "\u001b[0;31mValueError\u001b[0m: operands could not be broadcast together with shapes (3,4) (3,) "
          ]
        }
      ],
      "source": [
        "result2 = a + c\n",
        "\n",
        "print(a.shape)\n",
        "print(c.shape)\n",
        "print(result2.shape)\n",
        "print(result2)"
      ]
    },
    {
      "cell_type": "code",
      "execution_count": null,
      "metadata": {
        "colab": {
          "base_uri": "https://localhost:8080/"
        },
        "id": "cfDlElmphHct",
        "outputId": "d97a283a-ea36-41b6-f284-73a9f9881b4b"
      },
      "outputs": [
        {
          "output_type": "stream",
          "name": "stdout",
          "text": [
            "(3, 1)\n",
            "(3,)\n",
            "(3, 3)\n",
            "[[1.38438999 1.07108856 0.58142853]\n",
            " [1.02451055 0.71120913 0.2215491 ]\n",
            " [1.33364762 1.02034619 0.53068616]]\n"
          ]
        }
      ],
      "source": [
        "result3 = b + c\n",
        "\n",
        "print(b.shape)\n",
        "print(c.shape)\n",
        "print(result3.shape)\n",
        "print(result3)"
      ]
    },
    {
      "cell_type": "markdown",
      "metadata": {
        "id": "laiSCJO-jQhp"
      },
      "source": [
        "## Load data from file into NumPy"
      ]
    },
    {
      "cell_type": "markdown",
      "metadata": {
        "id": "yFVaZNruhHct"
      },
      "source": [
        "Here is an example on how we might import data using NumPy, but note that in the subsequent week we will use a standard tool Pandas to load that data in a much more robust manner!"
      ]
    },
    {
      "cell_type": "code",
      "execution_count": null,
      "metadata": {
        "colab": {
          "base_uri": "https://localhost:8080/"
        },
        "id": "BASBHqSxjEZF",
        "outputId": "3d317544-f079-4460-b43b-a137fd02ccb1"
      },
      "outputs": [
        {
          "output_type": "stream",
          "name": "stdout",
          "text": [
            "(17000, 9)\n"
          ]
        }
      ],
      "source": [
        "filedata = np.genfromtxt('./sample_data/california_housing_train.csv', delimiter=',', skip_header=1)\n",
        "\n",
        "print(filedata.shape)"
      ]
    },
    {
      "cell_type": "code",
      "execution_count": null,
      "metadata": {
        "colab": {
          "base_uri": "https://localhost:8080/"
        },
        "id": "KVvIvtqDKRQb",
        "outputId": "3afffe7d-a90e-4474-923c-5b6039d8613e"
      },
      "outputs": [
        {
          "output_type": "execute_result",
          "data": {
            "text/plain": [
              "array([[-1.1431e+02,  3.4190e+01,  1.5000e+01,  5.6120e+03,  1.2830e+03,\n",
              "         1.0150e+03,  4.7200e+02,  1.4936e+00,  6.6900e+04],\n",
              "       [-1.1447e+02,  3.4400e+01,  1.9000e+01,  7.6500e+03,  1.9010e+03,\n",
              "         1.1290e+03,  4.6300e+02,  1.8200e+00,  8.0100e+04],\n",
              "       [-1.1456e+02,  3.3690e+01,  1.7000e+01,  7.2000e+02,  1.7400e+02,\n",
              "         3.3300e+02,  1.1700e+02,  1.6509e+00,  8.5700e+04]])"
            ]
          },
          "metadata": {},
          "execution_count": 59
        }
      ],
      "source": [
        "filedata[:3]"
      ]
    },
    {
      "cell_type": "code",
      "execution_count": null,
      "metadata": {
        "colab": {
          "base_uri": "https://localhost:8080/"
        },
        "id": "ohbxxpuSjYMx",
        "outputId": "617b6797-ba57-4eb7-8b91-ca5bf7ea860f"
      },
      "outputs": [
        {
          "output_type": "execute_result",
          "data": {
            "text/plain": [
              "(17000,)"
            ]
          },
          "metadata": {},
          "execution_count": 60
        }
      ],
      "source": [
        "total_rooms = filedata[:, 3]\n",
        "total_rooms.shape"
      ]
    },
    {
      "cell_type": "code",
      "execution_count": null,
      "metadata": {
        "colab": {
          "base_uri": "https://localhost:8080/"
        },
        "id": "R0IVxDMjKP-n",
        "outputId": "31b4678a-877f-4c24-8b90-602e903c1312"
      },
      "outputs": [
        {
          "output_type": "execute_result",
          "data": {
            "text/plain": [
              "array([5612., 7650.,  720.])"
            ]
          },
          "metadata": {},
          "execution_count": 61
        }
      ],
      "source": [
        "total_rooms[:3]"
      ]
    },
    {
      "cell_type": "code",
      "execution_count": null,
      "metadata": {
        "colab": {
          "base_uri": "https://localhost:8080/"
        },
        "id": "Mvqyf8BJjiXR",
        "outputId": "554d9055-1e45-4f46-ac6c-0a290b1f9714"
      },
      "outputs": [
        {
          "output_type": "stream",
          "name": "stdout",
          "text": [
            "2.0\n",
            "37937.0\n"
          ]
        }
      ],
      "source": [
        "print(min(total_rooms))\n",
        "print(max(total_rooms))"
      ]
    },
    {
      "cell_type": "code",
      "execution_count": null,
      "metadata": {
        "colab": {
          "base_uri": "https://localhost:8080/"
        },
        "id": "JMiNhWYk0csC",
        "outputId": "c2aa0d8d-c0eb-4327-ab35-e73051757a44"
      },
      "outputs": [
        {
          "output_type": "execute_result",
          "data": {
            "text/plain": [
              "array([[4],\n",
              "       [4],\n",
              "       [4],\n",
              "       ...,\n",
              "       [4],\n",
              "       [4],\n",
              "       [4]])"
            ]
          },
          "metadata": {},
          "execution_count": 63
        }
      ],
      "source": [
        "num_persons_living = np.full((17000, 1), 4)\n",
        "num_persons_living"
      ]
    },
    {
      "cell_type": "code",
      "execution_count": null,
      "metadata": {
        "colab": {
          "base_uri": "https://localhost:8080/"
        },
        "id": "P6xESED2jn2s",
        "outputId": "0c435ae1-bf77-4e18-8428-e085e0bc30d6"
      },
      "outputs": [
        {
          "output_type": "stream",
          "name": "stdout",
          "text": [
            "(17000, 10)\n"
          ]
        }
      ],
      "source": [
        "# concatenate a new column to existing data\n",
        "num_persons_living = np.full((17000, 1), 4)\n",
        "\n",
        "filedata = np.hstack((filedata, num_persons_living))\n",
        "print(filedata.shape)"
      ]
    },
    {
      "cell_type": "code",
      "execution_count": null,
      "metadata": {
        "id": "KHDoaAYNmETY"
      },
      "outputs": [],
      "source": []
    }
  ],
  "metadata": {
    "colab": {
      "provenance": []
    },
    "kernelspec": {
      "display_name": "Python 3",
      "name": "python3"
    },
    "language_info": {
      "codemirror_mode": {
        "name": "ipython",
        "version": 3
      },
      "file_extension": ".py",
      "mimetype": "text/x-python",
      "name": "python",
      "nbconvert_exporter": "python",
      "pygments_lexer": "ipython3",
      "version": "3.9.6"
    }
  },
  "nbformat": 4,
  "nbformat_minor": 0
}